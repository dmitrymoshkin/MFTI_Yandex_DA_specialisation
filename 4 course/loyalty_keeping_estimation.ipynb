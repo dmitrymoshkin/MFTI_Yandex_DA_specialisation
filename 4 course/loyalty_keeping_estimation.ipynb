{
 "cells": [
  {
   "cell_type": "code",
   "execution_count": 66,
   "metadata": {},
   "outputs": [],
   "source": [
    "import statsmodels\n",
    "import scipy\n",
    "import numpy as np\n",
    "import pandas as pd\n",
    "import statsmodels.formula.api as smf\n",
    "import statsmodels.stats.api as sms\n",
    "from statsmodels.graphics.regressionplots import plot_leverage_resid2\n",
    "import matplotlib.pyplot as plt\n",
    "from scipy import stats\n",
    "import itertools\n",
    "from scipy.stats import pearsonr\n",
    "from statsmodels.stats.proportion import proportion_confint\n",
    "from statsmodels.sandbox.stats.multicomp import multipletests "
   ]
  },
  {
   "cell_type": "code",
   "execution_count": 2,
   "metadata": {},
   "outputs": [
    {
     "name": "stdout",
     "output_type": "stream",
     "text": [
      "Populating the interactive namespace from numpy and matplotlib\n"
     ]
    }
   ],
   "source": [
    "%pylab inline"
   ]
  },
  {
   "cell_type": "code",
   "execution_count": 3,
   "metadata": {},
   "outputs": [],
   "source": [
    "data = pd.read_csv('churn_analysis.csv')"
   ]
  },
  {
   "cell_type": "code",
   "execution_count": 4,
   "metadata": {},
   "outputs": [
    {
     "data": {
      "text/html": [
       "<div>\n",
       "<style scoped>\n",
       "    .dataframe tbody tr th:only-of-type {\n",
       "        vertical-align: middle;\n",
       "    }\n",
       "\n",
       "    .dataframe tbody tr th {\n",
       "        vertical-align: top;\n",
       "    }\n",
       "\n",
       "    .dataframe thead th {\n",
       "        text-align: right;\n",
       "    }\n",
       "</style>\n",
       "<table border=\"1\" class=\"dataframe\">\n",
       "  <thead>\n",
       "    <tr style=\"text-align: right;\">\n",
       "      <th></th>\n",
       "      <th>Unnamed: 0</th>\n",
       "      <th>state</th>\n",
       "      <th>account_length</th>\n",
       "      <th>area_code</th>\n",
       "      <th>intl_plan</th>\n",
       "      <th>vmail_plan</th>\n",
       "      <th>vmail_message</th>\n",
       "      <th>day_mins</th>\n",
       "      <th>day_calls</th>\n",
       "      <th>day_charge</th>\n",
       "      <th>...</th>\n",
       "      <th>night_mins</th>\n",
       "      <th>night_calls</th>\n",
       "      <th>night_charge</th>\n",
       "      <th>intl_mins</th>\n",
       "      <th>intl_calls</th>\n",
       "      <th>intl_charge</th>\n",
       "      <th>custserv_calls</th>\n",
       "      <th>treatment</th>\n",
       "      <th>mes_estim</th>\n",
       "      <th>churn</th>\n",
       "    </tr>\n",
       "  </thead>\n",
       "  <tbody>\n",
       "    <tr>\n",
       "      <th>0</th>\n",
       "      <td>0</td>\n",
       "      <td>KS</td>\n",
       "      <td>128</td>\n",
       "      <td>415</td>\n",
       "      <td>no</td>\n",
       "      <td>yes</td>\n",
       "      <td>25</td>\n",
       "      <td>265.1</td>\n",
       "      <td>110</td>\n",
       "      <td>45.07</td>\n",
       "      <td>...</td>\n",
       "      <td>244.7</td>\n",
       "      <td>91</td>\n",
       "      <td>11.01</td>\n",
       "      <td>10.0</td>\n",
       "      <td>3</td>\n",
       "      <td>2.70</td>\n",
       "      <td>1</td>\n",
       "      <td>1</td>\n",
       "      <td>0.65</td>\n",
       "      <td>False.</td>\n",
       "    </tr>\n",
       "    <tr>\n",
       "      <th>1</th>\n",
       "      <td>1</td>\n",
       "      <td>OH</td>\n",
       "      <td>107</td>\n",
       "      <td>415</td>\n",
       "      <td>no</td>\n",
       "      <td>yes</td>\n",
       "      <td>26</td>\n",
       "      <td>161.6</td>\n",
       "      <td>123</td>\n",
       "      <td>27.47</td>\n",
       "      <td>...</td>\n",
       "      <td>254.4</td>\n",
       "      <td>103</td>\n",
       "      <td>11.45</td>\n",
       "      <td>13.7</td>\n",
       "      <td>3</td>\n",
       "      <td>3.70</td>\n",
       "      <td>1</td>\n",
       "      <td>0</td>\n",
       "      <td>0.55</td>\n",
       "      <td>False.</td>\n",
       "    </tr>\n",
       "    <tr>\n",
       "      <th>2</th>\n",
       "      <td>2</td>\n",
       "      <td>NJ</td>\n",
       "      <td>137</td>\n",
       "      <td>415</td>\n",
       "      <td>no</td>\n",
       "      <td>no</td>\n",
       "      <td>0</td>\n",
       "      <td>243.4</td>\n",
       "      <td>114</td>\n",
       "      <td>41.38</td>\n",
       "      <td>...</td>\n",
       "      <td>162.6</td>\n",
       "      <td>104</td>\n",
       "      <td>7.32</td>\n",
       "      <td>12.2</td>\n",
       "      <td>5</td>\n",
       "      <td>3.29</td>\n",
       "      <td>0</td>\n",
       "      <td>0</td>\n",
       "      <td>0.72</td>\n",
       "      <td>False.</td>\n",
       "    </tr>\n",
       "    <tr>\n",
       "      <th>3</th>\n",
       "      <td>3</td>\n",
       "      <td>OH</td>\n",
       "      <td>84</td>\n",
       "      <td>408</td>\n",
       "      <td>yes</td>\n",
       "      <td>no</td>\n",
       "      <td>0</td>\n",
       "      <td>299.4</td>\n",
       "      <td>71</td>\n",
       "      <td>50.90</td>\n",
       "      <td>...</td>\n",
       "      <td>196.9</td>\n",
       "      <td>89</td>\n",
       "      <td>8.86</td>\n",
       "      <td>6.6</td>\n",
       "      <td>7</td>\n",
       "      <td>1.78</td>\n",
       "      <td>2</td>\n",
       "      <td>1</td>\n",
       "      <td>0.28</td>\n",
       "      <td>False.</td>\n",
       "    </tr>\n",
       "    <tr>\n",
       "      <th>4</th>\n",
       "      <td>4</td>\n",
       "      <td>OK</td>\n",
       "      <td>75</td>\n",
       "      <td>415</td>\n",
       "      <td>yes</td>\n",
       "      <td>no</td>\n",
       "      <td>0</td>\n",
       "      <td>166.7</td>\n",
       "      <td>113</td>\n",
       "      <td>28.34</td>\n",
       "      <td>...</td>\n",
       "      <td>186.9</td>\n",
       "      <td>121</td>\n",
       "      <td>8.41</td>\n",
       "      <td>10.1</td>\n",
       "      <td>3</td>\n",
       "      <td>2.73</td>\n",
       "      <td>3</td>\n",
       "      <td>2</td>\n",
       "      <td>0.45</td>\n",
       "      <td>False.</td>\n",
       "    </tr>\n",
       "  </tbody>\n",
       "</table>\n",
       "<p>5 rows × 23 columns</p>\n",
       "</div>"
      ],
      "text/plain": [
       "   Unnamed: 0 state  account_length  area_code intl_plan vmail_plan  \\\n",
       "0           0    KS             128        415        no        yes   \n",
       "1           1    OH             107        415        no        yes   \n",
       "2           2    NJ             137        415        no         no   \n",
       "3           3    OH              84        408       yes         no   \n",
       "4           4    OK              75        415       yes         no   \n",
       "\n",
       "   vmail_message  day_mins  day_calls  day_charge   ...    night_mins  \\\n",
       "0             25     265.1        110       45.07   ...         244.7   \n",
       "1             26     161.6        123       27.47   ...         254.4   \n",
       "2              0     243.4        114       41.38   ...         162.6   \n",
       "3              0     299.4         71       50.90   ...         196.9   \n",
       "4              0     166.7        113       28.34   ...         186.9   \n",
       "\n",
       "   night_calls  night_charge  intl_mins  intl_calls  intl_charge  \\\n",
       "0           91         11.01       10.0           3         2.70   \n",
       "1          103         11.45       13.7           3         3.70   \n",
       "2          104          7.32       12.2           5         3.29   \n",
       "3           89          8.86        6.6           7         1.78   \n",
       "4          121          8.41       10.1           3         2.73   \n",
       "\n",
       "   custserv_calls  treatment  mes_estim   churn  \n",
       "0               1          1       0.65  False.  \n",
       "1               1          0       0.55  False.  \n",
       "2               0          0       0.72  False.  \n",
       "3               2          1       0.28  False.  \n",
       "4               3          2       0.45  False.  \n",
       "\n",
       "[5 rows x 23 columns]"
      ]
     },
     "execution_count": 4,
     "metadata": {},
     "output_type": "execute_result"
    }
   ],
   "source": [
    "data.head()"
   ]
  },
  {
   "cell_type": "markdown",
   "metadata": {},
   "source": [
    "Давайте рассмотрим всех пользователей из контрольной группы (treatment = 1). Для таких пользователей мы хотим проверить гипотезу о том, что штат абонента не влияет на то, перестанет ли абонент пользоваться услугами оператора.\n",
    "\n",
    "Для этого мы воспользуемся критерием хи-квадрат. Постройте таблицы сопряженности между каждой из всех 1275 возможных неупорядоченных пар штатов и значением признака churn. Для каждой такой таблицы 2x2 применить критерий хи-квадрат можно с помощью функции\n",
    "scipy.stats.chi2_contingency(subtable, correction=False)\n",
    "Заметьте, что, например, (AZ, HI) и (HI, AZ) — это одна и та же пара. Обязательно выставьте correction=False (о том, что это значит, вы узнаете из следующих вопросов).\n",
    "\n",
    "Сколько достигаемых уровней значимости оказались меньше, чем $\\alpha=0.05$?"
   ]
  },
  {
   "cell_type": "code",
   "execution_count": 5,
   "metadata": {},
   "outputs": [],
   "source": [
    "states_pairs = list(itertools.combinations(set(data.state.values), 2))"
   ]
  },
  {
   "cell_type": "code",
   "execution_count": 6,
   "metadata": {},
   "outputs": [],
   "source": [
    "def table_creator(data):\n",
    "    \"\"\"creates pivot table\n",
    "    \"\"\"\n",
    "    a = data.state[(data.churn=='False.')].value_counts()\n",
    "    b = data.state[(data.churn=='True.')].value_counts()\n",
    "    states_stat = pd.DataFrame(a)\n",
    "    states_stat.rename(columns={\"state\": \"False\"}, inplace=True)\n",
    "    states_stat[\"True\"] = a\n",
    "    states_stat = states_stat.T\n",
    "    return states_stat"
   ]
  },
  {
   "cell_type": "code",
   "execution_count": 7,
   "metadata": {},
   "outputs": [],
   "source": [
    "#states_stat = table_creator(data[data.treatment==1])\n",
    "#states_stat"
   ]
  },
  {
   "cell_type": "code",
   "execution_count": 8,
   "metadata": {},
   "outputs": [
    {
     "data": {
      "text/html": [
       "<div>\n",
       "<style scoped>\n",
       "    .dataframe tbody tr th:only-of-type {\n",
       "        vertical-align: middle;\n",
       "    }\n",
       "\n",
       "    .dataframe tbody tr th {\n",
       "        vertical-align: top;\n",
       "    }\n",
       "\n",
       "    .dataframe thead th {\n",
       "        text-align: right;\n",
       "    }\n",
       "</style>\n",
       "<table border=\"1\" class=\"dataframe\">\n",
       "  <thead>\n",
       "    <tr style=\"text-align: right;\">\n",
       "      <th>state</th>\n",
       "      <th>AK</th>\n",
       "      <th>AL</th>\n",
       "      <th>AR</th>\n",
       "      <th>AZ</th>\n",
       "      <th>CA</th>\n",
       "      <th>CO</th>\n",
       "      <th>CT</th>\n",
       "      <th>DC</th>\n",
       "      <th>DE</th>\n",
       "      <th>FL</th>\n",
       "      <th>...</th>\n",
       "      <th>SD</th>\n",
       "      <th>TN</th>\n",
       "      <th>TX</th>\n",
       "      <th>UT</th>\n",
       "      <th>VA</th>\n",
       "      <th>VT</th>\n",
       "      <th>WA</th>\n",
       "      <th>WI</th>\n",
       "      <th>WV</th>\n",
       "      <th>WY</th>\n",
       "    </tr>\n",
       "    <tr>\n",
       "      <th>churn</th>\n",
       "      <th></th>\n",
       "      <th></th>\n",
       "      <th></th>\n",
       "      <th></th>\n",
       "      <th></th>\n",
       "      <th></th>\n",
       "      <th></th>\n",
       "      <th></th>\n",
       "      <th></th>\n",
       "      <th></th>\n",
       "      <th></th>\n",
       "      <th></th>\n",
       "      <th></th>\n",
       "      <th></th>\n",
       "      <th></th>\n",
       "      <th></th>\n",
       "      <th></th>\n",
       "      <th></th>\n",
       "      <th></th>\n",
       "      <th></th>\n",
       "      <th></th>\n",
       "    </tr>\n",
       "  </thead>\n",
       "  <tbody>\n",
       "    <tr>\n",
       "      <th>False.</th>\n",
       "      <td>19</td>\n",
       "      <td>25</td>\n",
       "      <td>11</td>\n",
       "      <td>17</td>\n",
       "      <td>10</td>\n",
       "      <td>17</td>\n",
       "      <td>25</td>\n",
       "      <td>18</td>\n",
       "      <td>16</td>\n",
       "      <td>18</td>\n",
       "      <td>...</td>\n",
       "      <td>20</td>\n",
       "      <td>11</td>\n",
       "      <td>14</td>\n",
       "      <td>18</td>\n",
       "      <td>20</td>\n",
       "      <td>18</td>\n",
       "      <td>16</td>\n",
       "      <td>22</td>\n",
       "      <td>27</td>\n",
       "      <td>20</td>\n",
       "    </tr>\n",
       "    <tr>\n",
       "      <th>True.</th>\n",
       "      <td>1</td>\n",
       "      <td>5</td>\n",
       "      <td>5</td>\n",
       "      <td>2</td>\n",
       "      <td>5</td>\n",
       "      <td>5</td>\n",
       "      <td>5</td>\n",
       "      <td>1</td>\n",
       "      <td>1</td>\n",
       "      <td>2</td>\n",
       "      <td>...</td>\n",
       "      <td>3</td>\n",
       "      <td>1</td>\n",
       "      <td>6</td>\n",
       "      <td>4</td>\n",
       "      <td>3</td>\n",
       "      <td>5</td>\n",
       "      <td>7</td>\n",
       "      <td>2</td>\n",
       "      <td>5</td>\n",
       "      <td>2</td>\n",
       "    </tr>\n",
       "  </tbody>\n",
       "</table>\n",
       "<p>2 rows × 51 columns</p>\n",
       "</div>"
      ],
      "text/plain": [
       "state   AK  AL  AR  AZ  CA  CO  CT  DC  DE  FL ...  SD  TN  TX  UT  VA  VT  \\\n",
       "churn                                          ...                           \n",
       "False.  19  25  11  17  10  17  25  18  16  18 ...  20  11  14  18  20  18   \n",
       "True.    1   5   5   2   5   5   5   1   1   2 ...   3   1   6   4   3   5   \n",
       "\n",
       "state   WA  WI  WV  WY  \n",
       "churn                   \n",
       "False.  16  22  27  20  \n",
       "True.    7   2   5   2  \n",
       "\n",
       "[2 rows x 51 columns]"
      ]
     },
     "execution_count": 8,
     "metadata": {},
     "output_type": "execute_result"
    }
   ],
   "source": [
    "# alternative for table_creator\n",
    "sparse_sales = pd.pivot_table(data[data.treatment==1], values='treatment', index=['churn'],\n",
    "                     columns=['state'], fill_value = 0, aggfunc='count')\n",
    "sparse_sales"
   ]
  },
  {
   "cell_type": "code",
   "execution_count": 9,
   "metadata": {
    "scrolled": true
   },
   "outputs": [],
   "source": [
    "p_values_list = []\n",
    "for i in states_pairs:\n",
    "    p_values_list.append(scipy.stats.chi2_contingency(sparse_sales[[x for x in i]], correction=False)[1])"
   ]
  },
  {
   "cell_type": "code",
   "execution_count": 10,
   "metadata": {},
   "outputs": [
    {
     "name": "stdout",
     "output_type": "stream",
     "text": [
      "Достигаемых уровней значимости, которые оказались меньше чем α=0.05: 34\n"
     ]
    }
   ],
   "source": [
    "print('Достигаемых уровней значимости, которые оказались меньше чем α=0.05:', \n",
    "      len(list(filter(lambda x: x < 0.05, p_values_list))))"
   ]
  },
  {
   "cell_type": "markdown",
   "metadata": {},
   "source": [
    "\n",
    "\n",
    "В основе критерия xи-квадрат лежит предположение о том, что если верна нулевая гипотеза, то дискретное биномиальное распределение данных по клеткам в таблице сопряженности может быть аппроксимировано с помощью непрерывного распределения xи-квадрат. Однако точность такой аппроксимации существенно зависит от суммарного количества наблюдений и их распределения в этой таблице (отсюда и ограничения при использовании критерия xи-квадрат).\n",
    "\n",
    "Одним из способов коррекции точности аппроксимации является поправка Йетса на непрерывность. Эта поправка заключается в вычитании константы 0.5 из каждого модуля разности наблюденного O_i O \n",
    "i\n",
    "​\t  и ожидаемого E_i E \n",
    "i\n",
    "​\t  значений, то есть, статистика с такой поправкой выглядит так:\n",
    "χ2Yates=∑i=1N(|Oi−Ei|−0.5)2Ei.\n",
    "Такая поправка, как несложно догадаться по формуле, как правило, уменьшает значение статистики χ2, то есть увеличивает достигаемый уровень значимости.\n",
    "\n",
    "Эта поправка обычно используется для таблиц сопряженности размером 2x2 и для небольшого количества наблюдений. Такая поправка, однако, не является серебрянной пулей, и часто критикуется за то, что статистический критерий при ее использовании становится слишком консервативным, то есть часто не отвергает нулевую гипотезу там, где она неверна (совершает ошибку II рода).\n",
    "\n",
    "Полезно знать, что эта поправка часто включена по умолчанию (например, в функции scipy.stats.chi2_contingency) и понимать ее влияние на оценку достигаемого уровня значимости.\n",
    "\n",
    "Проведите те же самые сравнения, что и в вопросе №1, только с включенной коррекцией"
   ]
  },
  {
   "cell_type": "code",
   "execution_count": 11,
   "metadata": {},
   "outputs": [],
   "source": [
    "p_values_list = []\n",
    "for i in states_pairs:\n",
    "    p_values_list.append(scipy.stats.chi2_contingency(sparse_sales[[x for x in i]], correction=True)[1])"
   ]
  },
  {
   "cell_type": "code",
   "execution_count": 12,
   "metadata": {},
   "outputs": [
    {
     "name": "stdout",
     "output_type": "stream",
     "text": [
      "Достигаемых уровней значимости, которые оказались меньше чем α=0.05: 0\n"
     ]
    }
   ],
   "source": [
    "print('Достигаемых уровней значимости, которые оказались меньше чем α=0.05:', \n",
    "      len(list(filter(lambda x: x < 0.05, p_values_list))))"
   ]
  },
  {
   "cell_type": "markdown",
   "metadata": {},
   "source": [
    "Что если у нас мало данных, мы не хотим использовать аппроксимацию дискретного распределения непрерывным и использовать сомнительную поправку, предположения критерия xи-квадрат не выполняются, а проверить гипотезу о том, что данные принадлежат одному распределению, нужно ?\n",
    "\n",
    "В таком случае прибегают к так называемому точному критерию Фишера. Этот критерий не использует приближений и в точности вычисляет значение достигаемого уровня значимости используя комбинаторный подход.\n",
    "\n",
    "Пусть у нас есть таблица сопряженности 2x2:\n",
    "\\begin{center}\n",
    "\\begin{tabular}{ |c|c|c| } \n",
    "\\hline\n",
    "& Группа 1\t& Группа 2 &\tΣ\n",
    "Воздействие 1 &\ta &\tb &\ta+b\n",
    "Воздействие 2 &\tc &\td &\tc+d\n",
    "Σ &\ta+c &\tb+d &\tn=a+b+c+d\n",
    "\\hline\n",
    "\\end{tabular}\n",
    "\\end{center}\n",
    "Тогда вероятность получить именно такие a, b, c, da,b,c,d при фиксированных значениях сумм по строкам и по столбцам) задается выражением\n",
    "\n",
    "p=(a+ba)(c+dc)(na+c)=(a+b)! (c+d)! (a+c)! (b+d)!a!  b!  c!  d!  n!.\n",
    "В числителе этой дроби стоит суммарное количество способов выбрать aa и cc из a +b a+b и c + dc+d соответственно. А в знаменателе — количество способов выбрать число объектов, равное сумме элементов первого столбца a + ca+c из общего количества рассматриваемых объектов nn.\n",
    "\n",
    "Чтобы посчитать достигаемый уровень значимости критерия Фишера, нужно перебрать все возможные значения a, b, c, d a,b,c,d, в клетках этой таблицы так, чтобы построковые и постолбцовые суммы не изменились. Для каждого такого набора a, b, c, d a,b,c,d нужно вычислить значение p_i p \n",
    "i\n",
    "​\t  по формуле выше и просуммировать все такие значения p_i p \n",
    "i\n",
    "​\t , которые меньше или равны pp, которое мы вычислили по наблюдаемым значениям a, b, c, d a,b,c,d.\n",
    "\n",
    "Понятно, что такой критерий вычислительно неудобен в силу большого количества факториалов в формуле выше. То есть даже при небольших выборках для вычисления значения этого критерия приходится оперировать очень большими числами. Поэтому данным критерием пользуются обычно только для таблиц 2x2, но сам критерий никак не ограничен количеством строк и столбцов, и его можно построить для любой таблицы n\\times mn×m.\n",
    "\n",
    "Посчитайте для каждой пары штатов, как и в первом задании, достигаемый уровень значимости с помощью точного критерия Фишера и сравните получившиеся значения с двумя другими подходами, описанными выше.\n",
    "\n",
    "Точный критерий Фишера удобно вычислять с помощью функции"
   ]
  },
  {
   "cell_type": "code",
   "execution_count": 13,
   "metadata": {},
   "outputs": [],
   "source": [
    "p_values_list = []\n",
    "for i in states_pairs:\n",
    "    p_values_list.append(scipy.stats.fisher_exact(sparse_sales[[x for x in i]])[1])"
   ]
  },
  {
   "cell_type": "code",
   "execution_count": 14,
   "metadata": {},
   "outputs": [
    {
     "name": "stdout",
     "output_type": "stream",
     "text": [
      "Достигаемых уровней значимости, которые оказались меньше чем α=0.05: 10\n"
     ]
    }
   ],
   "source": [
    "print('Достигаемых уровней значимости, которые оказались меньше чем α=0.05:', \n",
    "      len(list(filter(lambda x: x < 0.05, p_values_list))))"
   ]
  },
  {
   "cell_type": "markdown",
   "metadata": {},
   "source": [
    "Давайте попробуем применить полученные знания о разных видах корреляции и ее применимости на практике.\n",
    "\n",
    "Рассмотрим пару признаков day_calls и mes_estim. Посчитайте корреляцию Пирсона между этими признаками на всех данных, ее значимость."
   ]
  },
  {
   "cell_type": "code",
   "execution_count": 15,
   "metadata": {},
   "outputs": [
    {
     "data": {
      "image/png": "[encoded data removed]",
      "text/plain": [
       "<Figure size 432x288 with 1 Axes>"
      ]
     },
     "metadata": {
      "needs_background": "light"
     },
     "output_type": "display_data"
    }
   ],
   "source": [
    "plt.scatter(data.day_calls, data.mes_estim)\n",
    "plt.xlabel('day_calls')\n",
    "plt.ylabel('mes_estim')\n",
    "pass"
   ]
  },
  {
   "cell_type": "code",
   "execution_count": 16,
   "metadata": {},
   "outputs": [
    {
     "data": {
      "image/png": "[encoded data removed]",
      "text/plain": [
       "<Figure size 1080x432 with 2 Axes>"
      ]
     },
     "metadata": {
      "needs_background": "light"
     },
     "output_type": "display_data"
    }
   ],
   "source": [
    "_ = plt.figure(figsize=(15,6))\n",
    "_ = plt.subplot(121)\n",
    "_ = scipy.stats.probplot(data.day_calls, dist=\"norm\", plot=plt)\n",
    "_ = plt.subplot(122)\n",
    "_ = scipy.stats.probplot(data.mes_estim, dist=\"norm\", plot=plt)"
   ]
  },
  {
   "cell_type": "code",
   "execution_count": 17,
   "metadata": {
    "scrolled": false
   },
   "outputs": [
    {
     "name": "stdout",
     "output_type": "stream",
     "text": [
      "Pearson correlation value: -0.051794350587572625\n",
      "p=value: 0.0027798836869756707\n"
     ]
    }
   ],
   "source": [
    "print('Pearson correlation value:', pearsonr(data.day_calls, data.mes_estim)[0])\n",
    "print('p=value:', pearsonr(data.day_calls, data.mes_estim)[1])"
   ]
  },
  {
   "cell_type": "markdown",
   "metadata": {},
   "source": [
    "Еще раз рассмотрим пару признаков day_calls и mes_estim. Посчитайте корреляцию Спирмена между этими признаками на всех данных, ее значимость."
   ]
  },
  {
   "cell_type": "code",
   "execution_count": 18,
   "metadata": {},
   "outputs": [
    {
     "name": "stdout",
     "output_type": "stream",
     "text": [
      "Spearmen correlation value: 0.043349880533927444\n",
      "p=value: 0.012317367189170541\n"
     ]
    }
   ],
   "source": [
    "print('Spearmen correlation value:', stats.spearmanr(data.day_calls, data.mes_estim)[0])\n",
    "print('p=value:', stats.spearmanr(data.day_calls, data.mes_estim)[1])"
   ]
  },
  {
   "cell_type": "markdown",
   "metadata": {},
   "source": [
    "Посчитайте значение коэффицента корреляции Крамера между двумя признаками: штатом (state) и оттоком пользователей (churn) для всех пользователей, которые находились в контрольной группе (treatment=1). Что можно сказать о достигаемом уровне значимости при проверке гипотезы о равенство нулю этого коэффициента?\n",
    "\n",
    "\n",
    "Достигаемый уровень значимости < 0.05, то есть, отличие от нуля значения "
   ]
  },
  {
   "cell_type": "code",
   "execution_count": 19,
   "metadata": {},
   "outputs": [],
   "source": [
    "def cramers_stat(confusion_matrix):\n",
    "    chi2 = stats.chi2_contingency(confusion_matrix)[0]\n",
    "    n = confusion_matrix.sum()\n",
    "    return np.sqrt(chi2 / (n*(min(confusion_matrix.shape)-1)))"
   ]
  },
  {
   "cell_type": "code",
   "execution_count": 92,
   "metadata": {},
   "outputs": [
    {
     "name": "stdout",
     "output_type": "stream",
     "text": [
      "[65, 39, 221]\n"
     ]
    }
   ],
   "source": [
    "my_list = [12, 65, 54, 39, 102, 339, 221, 50, 70, ] \n",
    "  \n",
    "# use anonymous function to filter and comparing  \n",
    "# if divisible or not \n",
    "result = list(filter(lambda x: (x % 13 == 0), my_list))  \n",
    "  \n",
    "# printing the result \n",
    "print(result) "
   ]
  },
  {
   "cell_type": "code",
   "execution_count": 105,
   "metadata": {},
   "outputs": [
    {
     "data": {
      "text/plain": [
       "34"
      ]
     },
     "execution_count": 105,
     "metadata": {},
     "output_type": "execute_result"
    }
   ],
   "source": [
    "len(list(filter(lambda x: (x < 5), sparse_sales.iloc[1:].values[0])))"
   ]
  },
  {
   "cell_type": "code",
   "execution_count": 106,
   "metadata": {},
   "outputs": [
    {
     "data": {
      "text/html": [
       "<div>\n",
       "<style scoped>\n",
       "    .dataframe tbody tr th:only-of-type {\n",
       "        vertical-align: middle;\n",
       "    }\n",
       "\n",
       "    .dataframe tbody tr th {\n",
       "        vertical-align: top;\n",
       "    }\n",
       "\n",
       "    .dataframe thead th {\n",
       "        text-align: right;\n",
       "    }\n",
       "</style>\n",
       "<table border=\"1\" class=\"dataframe\">\n",
       "  <thead>\n",
       "    <tr style=\"text-align: right;\">\n",
       "      <th>state</th>\n",
       "      <th>AK</th>\n",
       "      <th>AL</th>\n",
       "      <th>AR</th>\n",
       "      <th>AZ</th>\n",
       "      <th>CA</th>\n",
       "      <th>CO</th>\n",
       "      <th>CT</th>\n",
       "      <th>DC</th>\n",
       "      <th>DE</th>\n",
       "      <th>FL</th>\n",
       "      <th>...</th>\n",
       "      <th>SD</th>\n",
       "      <th>TN</th>\n",
       "      <th>TX</th>\n",
       "      <th>UT</th>\n",
       "      <th>VA</th>\n",
       "      <th>VT</th>\n",
       "      <th>WA</th>\n",
       "      <th>WI</th>\n",
       "      <th>WV</th>\n",
       "      <th>WY</th>\n",
       "    </tr>\n",
       "    <tr>\n",
       "      <th>churn</th>\n",
       "      <th></th>\n",
       "      <th></th>\n",
       "      <th></th>\n",
       "      <th></th>\n",
       "      <th></th>\n",
       "      <th></th>\n",
       "      <th></th>\n",
       "      <th></th>\n",
       "      <th></th>\n",
       "      <th></th>\n",
       "      <th></th>\n",
       "      <th></th>\n",
       "      <th></th>\n",
       "      <th></th>\n",
       "      <th></th>\n",
       "      <th></th>\n",
       "      <th></th>\n",
       "      <th></th>\n",
       "      <th></th>\n",
       "      <th></th>\n",
       "      <th></th>\n",
       "    </tr>\n",
       "  </thead>\n",
       "  <tbody>\n",
       "    <tr>\n",
       "      <th>False.</th>\n",
       "      <td>19</td>\n",
       "      <td>25</td>\n",
       "      <td>11</td>\n",
       "      <td>17</td>\n",
       "      <td>10</td>\n",
       "      <td>17</td>\n",
       "      <td>25</td>\n",
       "      <td>18</td>\n",
       "      <td>16</td>\n",
       "      <td>18</td>\n",
       "      <td>...</td>\n",
       "      <td>20</td>\n",
       "      <td>11</td>\n",
       "      <td>14</td>\n",
       "      <td>18</td>\n",
       "      <td>20</td>\n",
       "      <td>18</td>\n",
       "      <td>16</td>\n",
       "      <td>22</td>\n",
       "      <td>27</td>\n",
       "      <td>20</td>\n",
       "    </tr>\n",
       "    <tr>\n",
       "      <th>True.</th>\n",
       "      <td>1</td>\n",
       "      <td>5</td>\n",
       "      <td>5</td>\n",
       "      <td>2</td>\n",
       "      <td>5</td>\n",
       "      <td>5</td>\n",
       "      <td>5</td>\n",
       "      <td>1</td>\n",
       "      <td>1</td>\n",
       "      <td>2</td>\n",
       "      <td>...</td>\n",
       "      <td>3</td>\n",
       "      <td>1</td>\n",
       "      <td>6</td>\n",
       "      <td>4</td>\n",
       "      <td>3</td>\n",
       "      <td>5</td>\n",
       "      <td>7</td>\n",
       "      <td>2</td>\n",
       "      <td>5</td>\n",
       "      <td>2</td>\n",
       "    </tr>\n",
       "  </tbody>\n",
       "</table>\n",
       "<p>2 rows × 51 columns</p>\n",
       "</div>"
      ],
      "text/plain": [
       "state   AK  AL  AR  AZ  CA  CO  CT  DC  DE  FL ...  SD  TN  TX  UT  VA  VT  \\\n",
       "churn                                          ...                           \n",
       "False.  19  25  11  17  10  17  25  18  16  18 ...  20  11  14  18  20  18   \n",
       "True.    1   5   5   2   5   5   5   1   1   2 ...   3   1   6   4   3   5   \n",
       "\n",
       "state   WA  WI  WV  WY  \n",
       "churn                   \n",
       "False.  16  22  27  20  \n",
       "True.    7   2   5   2  \n",
       "\n",
       "[2 rows x 51 columns]"
      ]
     },
     "execution_count": 106,
     "metadata": {},
     "output_type": "execute_result"
    }
   ],
   "source": [
    "sparse_sales"
   ]
  },
  {
   "cell_type": "code",
   "execution_count": 20,
   "metadata": {},
   "outputs": [
    {
     "name": "stdout",
     "output_type": "stream",
     "text": [
      "V Cramer stat value: 0.2004\n"
     ]
    }
   ],
   "source": [
    "print('V Cramer stat value: %.4f' %cramers_stat(sparse_sales.values))"
   ]
  },
  {
   "cell_type": "code",
   "execution_count": 21,
   "metadata": {},
   "outputs": [
    {
     "name": "stdout",
     "output_type": "stream",
     "text": [
      "p-value: 0.7098\n"
     ]
    }
   ],
   "source": [
    "print('p-value: %.4f' % stats.chi2_contingency(sparse_sales.values)[1])"
   ]
  },
  {
   "cell_type": "markdown",
   "metadata": {},
   "source": [
    "Вы прослушали большой курс и к текущему моменту обладете достаточными знаниями, чтобы попытаться самостоятельно выбрать нужный метод / инструмент / статистический критерий и сделать правильное заключение.\n",
    "\n",
    "В этой части задания вам нужно будет самостоятельно решить, с помощью каких методов можно провести анализ эффективности удержания (churn) с помощью раличных методов (treatment = 0, treatment = 2) относительно контрольной группы пользователей (treatment = 1).\n",
    "\n",
    "Что можно сказать об этих двух методах (treatment = 0, treatment = 2)? Одинаковы ли они с точки зрения эффективности? Каким бы методом вы бы посоветовали воспользоваться компании?"
   ]
  },
  {
   "cell_type": "markdown",
   "metadata": {},
   "source": [
    "Thus for each pair of samples we have to check hypotesys:\n",
    "    \n",
    "H0 treatment 0 and treatment 1 are from the same distribution\n",
    "\n",
    "H0 treatment 0 and treatment 2 are from the same distribution\n",
    "\n",
    "Each against two-sided alternative"
   ]
  },
  {
   "cell_type": "code",
   "execution_count": 35,
   "metadata": {},
   "outputs": [],
   "source": [
    "# bin column for response column\n",
    "data['binchurn'] = list(1 if x=='True.' else 0 for x in data.churn)"
   ]
  },
  {
   "cell_type": "code",
   "execution_count": 32,
   "metadata": {},
   "outputs": [],
   "source": [
    "conf_interval_treatment_0 = proportion_confint(sum(data.binchurn[(data.treatment==0)]), \n",
    "                                            data.binchurn[(data.treatment==0)].shape[0],\n",
    "                                            method = 'wilson')\n",
    "conf_interval_treatment_1 = proportion_confint(sum(data.binchurn[(data.treatment==1)]), \n",
    "                                            data.binchurn[(data.treatment==1)].shape[0],\n",
    "                                            method = 'wilson')\n",
    "conf_interval_treatment_2 = proportion_confint(sum(data.binchurn[(data.treatment==2)]), \n",
    "                                            data.binchurn[(data.treatment==2)].shape[0],\n",
    "                                            method = 'wilson')"
   ]
  },
  {
   "cell_type": "code",
   "execution_count": 33,
   "metadata": {},
   "outputs": [
    {
     "name": "stdout",
     "output_type": "stream",
     "text": [
      "interval for treatment 0 [0.126289, 0.167368]\n",
      "interval for tratment 1 [0.143347, 0.187165]\n",
      "interval for tratment 2 [0.106880, 0.145949]\n"
     ]
    }
   ],
   "source": [
    "print('interval for treatment 0 [%f, %f]' % conf_interval_treatment_0)\n",
    "print('interval for tratment 1 [%f, %f]' % conf_interval_treatment_1)\n",
    "print('interval for tratment 2 [%f, %f]' % conf_interval_treatment_2)"
   ]
  },
  {
   "cell_type": "code",
   "execution_count": 36,
   "metadata": {},
   "outputs": [],
   "source": [
    "def proportions_confint_diff_ind(sample1, sample2, alpha = 0.05):    \n",
    "    z = scipy.stats.norm.ppf(1 - alpha / 2.)   \n",
    "    p1 = float(sum(sample1)) / len(sample1)\n",
    "    p2 = float(sum(sample2)) / len(sample2)\n",
    "    \n",
    "    left_boundary = (p1 - p2) - z * np.sqrt(p1 * (1 - p1)/ len(sample1) + p2 * (1 - p2)/ len(sample2))\n",
    "    right_boundary = (p1 - p2) + z * np.sqrt(p1 * (1 - p1)/ len(sample1) + p2 * (1 - p2)/ len(sample2))\n",
    "    \n",
    "    return (left_boundary, right_boundary)"
   ]
  },
  {
   "cell_type": "code",
   "execution_count": 64,
   "metadata": {
    "scrolled": true
   },
   "outputs": [
    {
     "name": "stdout",
     "output_type": "stream",
     "text": [
      "Condfidence interval treatment 1-0: (-0.011583241590025106, 0.04848883584089464)\n",
      "Condfidence interval treatment 1-2: (0.00961876673809212, 0.06832230885668503)\n"
     ]
    }
   ],
   "source": [
    "print('Condfidence interval treatment 1-0:', proportions_confint_diff_ind(\n",
    "    data.binchurn[(data.treatment==1)], data.binchurn[(data.treatment==0)]))\n",
    "print('Condfidence interval treatment 1-2:', proportions_confint_diff_ind(\n",
    "    data.binchurn[(data.treatment==1)], data.binchurn[(data.treatment==2)]))"
   ]
  },
  {
   "cell_type": "code",
   "execution_count": 43,
   "metadata": {},
   "outputs": [],
   "source": [
    "def proportions_diff_z_stat_ind(sample1, sample2):\n",
    "    \"\"\"\n",
    "    Z-criteria for Z-test\n",
    "    \"\"\"\n",
    "    n1 = len(sample1)\n",
    "    n2 = len(sample2)\n",
    "    \n",
    "    p1 = float(sum(sample1)) / n1\n",
    "    p2 = float(sum(sample2)) / n2 \n",
    "    P = float(p1*n1 + p2*n2) / (n1 + n2)\n",
    "    \n",
    "    return (p1 - p2) / np.sqrt(P * (1 - P) * (1. / n1 + 1. / n2))"
   ]
  },
  {
   "cell_type": "code",
   "execution_count": 44,
   "metadata": {},
   "outputs": [],
   "source": [
    "def proportions_diff_z_test(z_stat, alternative = 'two-sided'):\n",
    "    if alternative not in ('two-sided', 'less', 'greater'):\n",
    "        raise ValueError(\"alternative not recognized\\n\"\n",
    "                         \"should be 'two-sided', 'less' or 'greater'\")\n",
    "    \n",
    "    if alternative == 'two-sided':\n",
    "        return 2 * (1 - scipy.stats.norm.cdf(np.abs(z_stat)))\n",
    "    \n",
    "    if alternative == 'less':\n",
    "        return scipy.stats.norm.cdf(z_stat)\n",
    "\n",
    "    if alternative == 'greater':\n",
    "        return 1 - scipy.stats.norm.cdf(z_stat)"
   ]
  },
  {
   "cell_type": "code",
   "execution_count": 68,
   "metadata": {},
   "outputs": [
    {
     "name": "stdout",
     "output_type": "stream",
     "text": [
      "p-value treatment 1-0: 0.2283311639045107\n",
      "p-value treatment 1-2: 0.009348084294451109\n",
      "p-value treatment 0-2: 0.1564246886050802\n"
     ]
    }
   ],
   "source": [
    "print('p-value treatment 1-0:', proportions_diff_z_test(\n",
    "                proportions_diff_z_stat_ind(data.binchurn[(data.treatment==1)], \n",
    "                data.binchurn[(data.treatment==0)]), alternative = 'two-sided'))\n",
    "print('p-value treatment 1-2:', proportions_diff_z_test(\n",
    "                proportions_diff_z_stat_ind(data.binchurn[(data.treatment==1)], \n",
    "                data.binchurn[(data.treatment==2)]), alternative = 'two-sided'))\n",
    "print('p-value treatment 0-2:', proportions_diff_z_test(\n",
    "                proportions_diff_z_stat_ind(data.binchurn[(data.treatment==0)], \n",
    "                data.binchurn[(data.treatment==2)]), alternative = 'two-sided'))"
   ]
  },
  {
   "cell_type": "code",
   "execution_count": 69,
   "metadata": {},
   "outputs": [
    {
     "data": {
      "text/plain": [
       "array([0.22833116, 0.02804425, 0.22833116])"
      ]
     },
     "execution_count": 69,
     "metadata": {},
     "output_type": "execute_result"
    }
   ],
   "source": [
    "_, p_corrected, _, _ = multipletests([0.2283311639045107, 0.009348084294451109, 0.1564246886050802],\n",
    "                                     alpha = 0.05, method = 'fdr_bh') \n",
    "p_corrected"
   ]
  },
  {
   "cell_type": "code",
   "execution_count": null,
   "metadata": {},
   "outputs": [],
   "source": []
  }
 ],
 "metadata": {
  "kernelspec": {
   "display_name": "Python 3",
   "language": "python",
   "name": "python3"
  },
  "language_info": {
   "codemirror_mode": {
    "name": "ipython",
    "version": 3
   },
   "file_extension": ".py",
   "mimetype": "text/x-python",
   "name": "python",
   "nbconvert_exporter": "python",
   "pygments_lexer": "ipython3",
   "version": "3.7.1"
  }
 },
 "nbformat": 4,
 "nbformat_minor": 2
}
