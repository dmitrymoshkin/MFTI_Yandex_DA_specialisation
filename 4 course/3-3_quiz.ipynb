{
 "cells": [
  {
   "cell_type": "code",
   "execution_count": 1,
   "metadata": {},
   "outputs": [],
   "source": [
    "import statsmodels\n",
    "import scipy as sc\n",
    "import numpy as np\n",
    "import pandas as pd\n",
    "import statsmodels.formula.api as smf\n",
    "import statsmodels.stats.api as sms\n",
    "from statsmodels.graphics.regressionplots import plot_leverage_resid2\n",
    "import matplotlib.pyplot as plt"
   ]
  },
  {
   "cell_type": "code",
   "execution_count": 152,
   "metadata": {
    "scrolled": true
   },
   "outputs": [
    {
     "data": {
      "text/html": [
       "<div>\n",
       "<style scoped>\n",
       "    .dataframe tbody tr th:only-of-type {\n",
       "        vertical-align: middle;\n",
       "    }\n",
       "\n",
       "    .dataframe tbody tr th {\n",
       "        vertical-align: top;\n",
       "    }\n",
       "\n",
       "    .dataframe thead th {\n",
       "        text-align: right;\n",
       "    }\n",
       "</style>\n",
       "<table border=\"1\" class=\"dataframe\">\n",
       "  <thead>\n",
       "    <tr style=\"text-align: right;\">\n",
       "      <th></th>\n",
       "      <th>ceb</th>\n",
       "      <th>age</th>\n",
       "      <th>educ</th>\n",
       "      <th>religion</th>\n",
       "      <th>idlnchld</th>\n",
       "      <th>knowmeth</th>\n",
       "      <th>usemeth</th>\n",
       "      <th>evermarr</th>\n",
       "      <th>agefm</th>\n",
       "      <th>heduc</th>\n",
       "      <th>urban</th>\n",
       "      <th>electric</th>\n",
       "      <th>radio</th>\n",
       "      <th>tv</th>\n",
       "      <th>bicycle</th>\n",
       "    </tr>\n",
       "  </thead>\n",
       "  <tbody>\n",
       "    <tr>\n",
       "      <th>0</th>\n",
       "      <td>0</td>\n",
       "      <td>18</td>\n",
       "      <td>10</td>\n",
       "      <td>catholic</td>\n",
       "      <td>4.0</td>\n",
       "      <td>1.0</td>\n",
       "      <td>1.0</td>\n",
       "      <td>0</td>\n",
       "      <td>NaN</td>\n",
       "      <td>NaN</td>\n",
       "      <td>1</td>\n",
       "      <td>1.0</td>\n",
       "      <td>1.0</td>\n",
       "      <td>1.0</td>\n",
       "      <td>1.0</td>\n",
       "    </tr>\n",
       "    <tr>\n",
       "      <th>1</th>\n",
       "      <td>2</td>\n",
       "      <td>43</td>\n",
       "      <td>11</td>\n",
       "      <td>protestant</td>\n",
       "      <td>2.0</td>\n",
       "      <td>1.0</td>\n",
       "      <td>1.0</td>\n",
       "      <td>1</td>\n",
       "      <td>20.0</td>\n",
       "      <td>14.0</td>\n",
       "      <td>1</td>\n",
       "      <td>1.0</td>\n",
       "      <td>1.0</td>\n",
       "      <td>1.0</td>\n",
       "      <td>1.0</td>\n",
       "    </tr>\n",
       "    <tr>\n",
       "      <th>2</th>\n",
       "      <td>0</td>\n",
       "      <td>49</td>\n",
       "      <td>4</td>\n",
       "      <td>spirit</td>\n",
       "      <td>4.0</td>\n",
       "      <td>1.0</td>\n",
       "      <td>0.0</td>\n",
       "      <td>1</td>\n",
       "      <td>22.0</td>\n",
       "      <td>1.0</td>\n",
       "      <td>1</td>\n",
       "      <td>1.0</td>\n",
       "      <td>1.0</td>\n",
       "      <td>0.0</td>\n",
       "      <td>0.0</td>\n",
       "    </tr>\n",
       "    <tr>\n",
       "      <th>3</th>\n",
       "      <td>0</td>\n",
       "      <td>24</td>\n",
       "      <td>12</td>\n",
       "      <td>other</td>\n",
       "      <td>2.0</td>\n",
       "      <td>1.0</td>\n",
       "      <td>0.0</td>\n",
       "      <td>0</td>\n",
       "      <td>NaN</td>\n",
       "      <td>NaN</td>\n",
       "      <td>1</td>\n",
       "      <td>1.0</td>\n",
       "      <td>1.0</td>\n",
       "      <td>1.0</td>\n",
       "      <td>1.0</td>\n",
       "    </tr>\n",
       "    <tr>\n",
       "      <th>4</th>\n",
       "      <td>3</td>\n",
       "      <td>32</td>\n",
       "      <td>13</td>\n",
       "      <td>other</td>\n",
       "      <td>3.0</td>\n",
       "      <td>1.0</td>\n",
       "      <td>1.0</td>\n",
       "      <td>1</td>\n",
       "      <td>24.0</td>\n",
       "      <td>12.0</td>\n",
       "      <td>1</td>\n",
       "      <td>1.0</td>\n",
       "      <td>1.0</td>\n",
       "      <td>1.0</td>\n",
       "      <td>1.0</td>\n",
       "    </tr>\n",
       "  </tbody>\n",
       "</table>\n",
       "</div>"
      ],
      "text/plain": [
       "   ceb  age  educ    religion  idlnchld  knowmeth  usemeth  evermarr  agefm  \\\n",
       "0    0   18    10    catholic       4.0       1.0      1.0         0    NaN   \n",
       "1    2   43    11  protestant       2.0       1.0      1.0         1   20.0   \n",
       "2    0   49     4      spirit       4.0       1.0      0.0         1   22.0   \n",
       "3    0   24    12       other       2.0       1.0      0.0         0    NaN   \n",
       "4    3   32    13       other       3.0       1.0      1.0         1   24.0   \n",
       "\n",
       "   heduc  urban  electric  radio   tv  bicycle  \n",
       "0    NaN      1       1.0    1.0  1.0      1.0  \n",
       "1   14.0      1       1.0    1.0  1.0      1.0  \n",
       "2    1.0      1       1.0    1.0  0.0      0.0  \n",
       "3    NaN      1       1.0    1.0  1.0      1.0  \n",
       "4   12.0      1       1.0    1.0  1.0      1.0  "
      ]
     },
     "execution_count": 152,
     "metadata": {},
     "output_type": "execute_result"
    }
   ],
   "source": [
    "data = pd.read_table('botswana.tsv')\n",
    "data.head()"
   ]
  },
  {
   "cell_type": "code",
   "execution_count": 153,
   "metadata": {},
   "outputs": [
    {
     "data": {
      "text/plain": [
       "(array(['catholic', 'other', 'protestant', 'spirit'], dtype=object),\n",
       " array([ 447, 1080,  993, 1841], dtype=int64))"
      ]
     },
     "execution_count": 153,
     "metadata": {},
     "output_type": "execute_result"
    }
   ],
   "source": [
    "np.unique(data.religion,return_counts=True)"
   ]
  },
  {
   "cell_type": "code",
   "execution_count": 154,
   "metadata": {
    "scrolled": true
   },
   "outputs": [
    {
     "data": {
      "text/html": [
       "<div>\n",
       "<style scoped>\n",
       "    .dataframe tbody tr th:only-of-type {\n",
       "        vertical-align: middle;\n",
       "    }\n",
       "\n",
       "    .dataframe tbody tr th {\n",
       "        vertical-align: top;\n",
       "    }\n",
       "\n",
       "    .dataframe thead th {\n",
       "        text-align: right;\n",
       "    }\n",
       "</style>\n",
       "<table border=\"1\" class=\"dataframe\">\n",
       "  <thead>\n",
       "    <tr style=\"text-align: right;\">\n",
       "      <th></th>\n",
       "      <th>ceb</th>\n",
       "      <th>age</th>\n",
       "      <th>educ</th>\n",
       "      <th>idlnchld</th>\n",
       "      <th>knowmeth</th>\n",
       "      <th>usemeth</th>\n",
       "      <th>evermarr</th>\n",
       "      <th>agefm</th>\n",
       "      <th>heduc</th>\n",
       "      <th>urban</th>\n",
       "      <th>electric</th>\n",
       "      <th>radio</th>\n",
       "      <th>tv</th>\n",
       "      <th>bicycle</th>\n",
       "    </tr>\n",
       "  </thead>\n",
       "  <tbody>\n",
       "    <tr>\n",
       "      <th>count</th>\n",
       "      <td>4361.000000</td>\n",
       "      <td>4361.000000</td>\n",
       "      <td>4361.000000</td>\n",
       "      <td>4241.000000</td>\n",
       "      <td>4354.000000</td>\n",
       "      <td>4290.000000</td>\n",
       "      <td>4361.000000</td>\n",
       "      <td>2079.000000</td>\n",
       "      <td>1956.000000</td>\n",
       "      <td>4361.000000</td>\n",
       "      <td>4358.000000</td>\n",
       "      <td>4359.000000</td>\n",
       "      <td>4359.000000</td>\n",
       "      <td>4358.000000</td>\n",
       "    </tr>\n",
       "    <tr>\n",
       "      <th>mean</th>\n",
       "      <td>2.441642</td>\n",
       "      <td>27.405182</td>\n",
       "      <td>5.855996</td>\n",
       "      <td>4.615892</td>\n",
       "      <td>0.963252</td>\n",
       "      <td>0.577622</td>\n",
       "      <td>0.476726</td>\n",
       "      <td>20.686388</td>\n",
       "      <td>5.144683</td>\n",
       "      <td>0.516625</td>\n",
       "      <td>0.140202</td>\n",
       "      <td>0.701766</td>\n",
       "      <td>0.092911</td>\n",
       "      <td>0.275815</td>\n",
       "    </tr>\n",
       "    <tr>\n",
       "      <th>std</th>\n",
       "      <td>2.406861</td>\n",
       "      <td>8.685233</td>\n",
       "      <td>3.927075</td>\n",
       "      <td>2.219303</td>\n",
       "      <td>0.188164</td>\n",
       "      <td>0.493996</td>\n",
       "      <td>0.499515</td>\n",
       "      <td>5.002383</td>\n",
       "      <td>4.803028</td>\n",
       "      <td>0.499781</td>\n",
       "      <td>0.347236</td>\n",
       "      <td>0.457535</td>\n",
       "      <td>0.290341</td>\n",
       "      <td>0.446975</td>\n",
       "    </tr>\n",
       "    <tr>\n",
       "      <th>min</th>\n",
       "      <td>0.000000</td>\n",
       "      <td>15.000000</td>\n",
       "      <td>0.000000</td>\n",
       "      <td>0.000000</td>\n",
       "      <td>0.000000</td>\n",
       "      <td>0.000000</td>\n",
       "      <td>0.000000</td>\n",
       "      <td>10.000000</td>\n",
       "      <td>0.000000</td>\n",
       "      <td>0.000000</td>\n",
       "      <td>0.000000</td>\n",
       "      <td>0.000000</td>\n",
       "      <td>0.000000</td>\n",
       "      <td>0.000000</td>\n",
       "    </tr>\n",
       "    <tr>\n",
       "      <th>25%</th>\n",
       "      <td>1.000000</td>\n",
       "      <td>20.000000</td>\n",
       "      <td>3.000000</td>\n",
       "      <td>3.000000</td>\n",
       "      <td>1.000000</td>\n",
       "      <td>0.000000</td>\n",
       "      <td>0.000000</td>\n",
       "      <td>17.000000</td>\n",
       "      <td>0.000000</td>\n",
       "      <td>0.000000</td>\n",
       "      <td>0.000000</td>\n",
       "      <td>0.000000</td>\n",
       "      <td>0.000000</td>\n",
       "      <td>0.000000</td>\n",
       "    </tr>\n",
       "    <tr>\n",
       "      <th>50%</th>\n",
       "      <td>2.000000</td>\n",
       "      <td>26.000000</td>\n",
       "      <td>7.000000</td>\n",
       "      <td>4.000000</td>\n",
       "      <td>1.000000</td>\n",
       "      <td>1.000000</td>\n",
       "      <td>0.000000</td>\n",
       "      <td>20.000000</td>\n",
       "      <td>6.000000</td>\n",
       "      <td>1.000000</td>\n",
       "      <td>0.000000</td>\n",
       "      <td>1.000000</td>\n",
       "      <td>0.000000</td>\n",
       "      <td>0.000000</td>\n",
       "    </tr>\n",
       "    <tr>\n",
       "      <th>75%</th>\n",
       "      <td>4.000000</td>\n",
       "      <td>33.000000</td>\n",
       "      <td>8.000000</td>\n",
       "      <td>6.000000</td>\n",
       "      <td>1.000000</td>\n",
       "      <td>1.000000</td>\n",
       "      <td>1.000000</td>\n",
       "      <td>23.000000</td>\n",
       "      <td>8.000000</td>\n",
       "      <td>1.000000</td>\n",
       "      <td>0.000000</td>\n",
       "      <td>1.000000</td>\n",
       "      <td>0.000000</td>\n",
       "      <td>1.000000</td>\n",
       "    </tr>\n",
       "    <tr>\n",
       "      <th>max</th>\n",
       "      <td>13.000000</td>\n",
       "      <td>49.000000</td>\n",
       "      <td>20.000000</td>\n",
       "      <td>20.000000</td>\n",
       "      <td>1.000000</td>\n",
       "      <td>1.000000</td>\n",
       "      <td>1.000000</td>\n",
       "      <td>46.000000</td>\n",
       "      <td>20.000000</td>\n",
       "      <td>1.000000</td>\n",
       "      <td>1.000000</td>\n",
       "      <td>1.000000</td>\n",
       "      <td>1.000000</td>\n",
       "      <td>1.000000</td>\n",
       "    </tr>\n",
       "  </tbody>\n",
       "</table>\n",
       "</div>"
      ],
      "text/plain": [
       "               ceb          age         educ     idlnchld     knowmeth  \\\n",
       "count  4361.000000  4361.000000  4361.000000  4241.000000  4354.000000   \n",
       "mean      2.441642    27.405182     5.855996     4.615892     0.963252   \n",
       "std       2.406861     8.685233     3.927075     2.219303     0.188164   \n",
       "min       0.000000    15.000000     0.000000     0.000000     0.000000   \n",
       "25%       1.000000    20.000000     3.000000     3.000000     1.000000   \n",
       "50%       2.000000    26.000000     7.000000     4.000000     1.000000   \n",
       "75%       4.000000    33.000000     8.000000     6.000000     1.000000   \n",
       "max      13.000000    49.000000    20.000000    20.000000     1.000000   \n",
       "\n",
       "           usemeth     evermarr        agefm        heduc        urban  \\\n",
       "count  4290.000000  4361.000000  2079.000000  1956.000000  4361.000000   \n",
       "mean      0.577622     0.476726    20.686388     5.144683     0.516625   \n",
       "std       0.493996     0.499515     5.002383     4.803028     0.499781   \n",
       "min       0.000000     0.000000    10.000000     0.000000     0.000000   \n",
       "25%       0.000000     0.000000    17.000000     0.000000     0.000000   \n",
       "50%       1.000000     0.000000    20.000000     6.000000     1.000000   \n",
       "75%       1.000000     1.000000    23.000000     8.000000     1.000000   \n",
       "max       1.000000     1.000000    46.000000    20.000000     1.000000   \n",
       "\n",
       "          electric        radio           tv      bicycle  \n",
       "count  4358.000000  4359.000000  4359.000000  4358.000000  \n",
       "mean      0.140202     0.701766     0.092911     0.275815  \n",
       "std       0.347236     0.457535     0.290341     0.446975  \n",
       "min       0.000000     0.000000     0.000000     0.000000  \n",
       "25%       0.000000     0.000000     0.000000     0.000000  \n",
       "50%       0.000000     1.000000     0.000000     0.000000  \n",
       "75%       0.000000     1.000000     0.000000     1.000000  \n",
       "max       1.000000     1.000000     1.000000     1.000000  "
      ]
     },
     "execution_count": 154,
     "metadata": {},
     "output_type": "execute_result"
    }
   ],
   "source": [
    "data.describe()"
   ]
  },
  {
   "cell_type": "code",
   "execution_count": 155,
   "metadata": {
    "scrolled": true
   },
   "outputs": [
    {
     "data": {
      "text/plain": [
       "ceb         1834\n",
       "age         1834\n",
       "educ        1834\n",
       "religion    1834\n",
       "idlnchld    1834\n",
       "knowmeth    1834\n",
       "usemeth     1834\n",
       "evermarr    1834\n",
       "agefm       1834\n",
       "heduc       1834\n",
       "urban       1834\n",
       "electric    1834\n",
       "radio       1834\n",
       "tv          1834\n",
       "bicycle     1834\n",
       "dtype: int64"
      ]
     },
     "execution_count": 155,
     "metadata": {},
     "output_type": "execute_result"
    }
   ],
   "source": [
    "data.dropna(axis=0).count()"
   ]
  },
  {
   "cell_type": "code",
   "execution_count": 156,
   "metadata": {},
   "outputs": [],
   "source": [
    "data['nevermarr'] = list(map(lambda x: 1 if x == True else 0, data.agefm.isna()))"
   ]
  },
  {
   "cell_type": "code",
   "execution_count": 157,
   "metadata": {},
   "outputs": [],
   "source": [
    "data['agefm'].fillna(0, inplace=True)"
   ]
  },
  {
   "cell_type": "code",
   "execution_count": 158,
   "metadata": {},
   "outputs": [],
   "source": [
    "data.drop('evermarr', axis=1, inplace=True)"
   ]
  },
  {
   "cell_type": "code",
   "execution_count": 159,
   "metadata": {},
   "outputs": [
    {
     "name": "stderr",
     "output_type": "stream",
     "text": [
      "C:\\Users\\dvmos\\Anaconda3\\lib\\site-packages\\ipykernel_launcher.py:1: SettingWithCopyWarning: \n",
      "A value is trying to be set on a copy of a slice from a DataFrame\n",
      "\n",
      "See the caveats in the documentation: http://pandas.pydata.org/pandas-docs/stable/indexing.html#indexing-view-versus-copy\n",
      "  \"\"\"Entry point for launching an IPython kernel.\n"
     ]
    }
   ],
   "source": [
    "data.heduc[(data['nevermarr']==1) & data['heduc'].isna()] = -1"
   ]
  },
  {
   "cell_type": "code",
   "execution_count": 160,
   "metadata": {},
   "outputs": [
    {
     "data": {
      "text/plain": [
       "False    4238\n",
       "True      123\n",
       "Name: heduc, dtype: int64"
      ]
     },
     "execution_count": 160,
     "metadata": {},
     "output_type": "execute_result"
    }
   ],
   "source": [
    "data.heduc.isna().value_counts()"
   ]
  },
  {
   "cell_type": "code",
   "execution_count": 161,
   "metadata": {},
   "outputs": [
    {
     "data": {
      "text/plain": [
       "ceb            0\n",
       "age            0\n",
       "educ           0\n",
       "religion       0\n",
       "idlnchld     120\n",
       "knowmeth       7\n",
       "usemeth       71\n",
       "agefm          0\n",
       "heduc        123\n",
       "urban          0\n",
       "electric       3\n",
       "radio          2\n",
       "tv             2\n",
       "bicycle        3\n",
       "nevermarr      0\n",
       "dtype: int64"
      ]
     },
     "execution_count": 161,
     "metadata": {},
     "output_type": "execute_result"
    }
   ],
   "source": [
    "data.isna().sum()"
   ]
  },
  {
   "cell_type": "code",
   "execution_count": 162,
   "metadata": {},
   "outputs": [],
   "source": [
    "data['idlnchld_noans'] = list(map(lambda x: 1 if x == True else 0, data.idlnchld.isna()))\n",
    "data['heduc_noans'] = list(map(lambda x: 1 if x == True else 0, data.heduc.isna()))\n",
    "data['usemeth_noans'] = list(map(lambda x: 1 if x == True else 0, data.usemeth.isna()))"
   ]
  },
  {
   "cell_type": "code",
   "execution_count": 163,
   "metadata": {},
   "outputs": [],
   "source": [
    "data['idlnchld'].fillna(-2, inplace=True)\n",
    "data['heduc'].fillna(-3, inplace=True)\n",
    "data['usemeth'].fillna(-4, inplace=True)"
   ]
  },
  {
   "cell_type": "code",
   "execution_count": 164,
   "metadata": {
    "scrolled": true
   },
   "outputs": [
    {
     "data": {
      "text/plain": [
       "ceb               0\n",
       "age               0\n",
       "educ              0\n",
       "religion          0\n",
       "idlnchld          0\n",
       "knowmeth          7\n",
       "usemeth           0\n",
       "agefm             0\n",
       "heduc             0\n",
       "urban             0\n",
       "electric          3\n",
       "radio             2\n",
       "tv                2\n",
       "bicycle           3\n",
       "nevermarr         0\n",
       "idlnchld_noans    0\n",
       "heduc_noans       0\n",
       "usemeth_noans     0\n",
       "dtype: int64"
      ]
     },
     "execution_count": 164,
     "metadata": {},
     "output_type": "execute_result"
    }
   ],
   "source": [
    "data.isna().sum()"
   ]
  },
  {
   "cell_type": "code",
   "execution_count": 165,
   "metadata": {},
   "outputs": [],
   "source": [
    "data.dropna(inplace=True)"
   ]
  },
  {
   "cell_type": "code",
   "execution_count": 166,
   "metadata": {
    "scrolled": true
   },
   "outputs": [
    {
     "name": "stdout",
     "output_type": "stream",
     "text": [
      "<class 'pandas.core.frame.DataFrame'>\n",
      "Int64Index: 4348 entries, 0 to 4360\n",
      "Data columns (total 18 columns):\n",
      "ceb               4348 non-null int64\n",
      "age               4348 non-null int64\n",
      "educ              4348 non-null int64\n",
      "religion          4348 non-null object\n",
      "idlnchld          4348 non-null float64\n",
      "knowmeth          4348 non-null float64\n",
      "usemeth           4348 non-null float64\n",
      "agefm             4348 non-null float64\n",
      "heduc             4348 non-null float64\n",
      "urban             4348 non-null int64\n",
      "electric          4348 non-null float64\n",
      "radio             4348 non-null float64\n",
      "tv                4348 non-null float64\n",
      "bicycle           4348 non-null float64\n",
      "nevermarr         4348 non-null int64\n",
      "idlnchld_noans    4348 non-null int64\n",
      "heduc_noans       4348 non-null int64\n",
      "usemeth_noans     4348 non-null int64\n",
      "dtypes: float64(9), int64(8), object(1)\n",
      "memory usage: 645.4+ KB\n"
     ]
    }
   ],
   "source": [
    "data.info()"
   ]
  },
  {
   "cell_type": "code",
   "execution_count": 167,
   "metadata": {},
   "outputs": [
    {
     "ename": "TypeError",
     "evalue": "map() must have at least two arguments.",
     "output_type": "error",
     "traceback": [
      "\u001b[1;31m---------------------------------------------------------------------------\u001b[0m",
      "\u001b[1;31mTypeError\u001b[0m                                 Traceback (most recent call last)",
      "\u001b[1;32m<ipython-input-167-73cedabf7ab3>\u001b[0m in \u001b[0;36m<module>\u001b[1;34m\u001b[0m\n\u001b[1;32m----> 1\u001b[1;33m \u001b[0mmap\u001b[0m\u001b[1;33m(\u001b[0m\u001b[1;32mlambda\u001b[0m \u001b[0mx\u001b[0m\u001b[1;33m:\u001b[0m \u001b[0mx\u001b[0m\u001b[1;33m)\u001b[0m\u001b[1;33m\u001b[0m\u001b[1;33m\u001b[0m\u001b[0m\n\u001b[0m",
      "\u001b[1;31mTypeError\u001b[0m: map() must have at least two arguments."
     ]
    }
   ],
   "source": [
    "map(lambda x: x)"
   ]
  },
  {
   "cell_type": "code",
   "execution_count": 168,
   "metadata": {
    "scrolled": false
   },
   "outputs": [
    {
     "data": {
      "text/plain": [
       "Index(['age', 'educ', 'religion', 'idlnchld', 'knowmeth', 'usemeth', 'agefm',\n",
       "       'heduc', 'urban', 'electric', 'radio', 'tv', 'bicycle', 'nevermarr',\n",
       "       'idlnchld_noans', 'heduc_noans', 'usemeth_noans'],\n",
       "      dtype='object')"
      ]
     },
     "execution_count": 168,
     "metadata": {},
     "output_type": "execute_result"
    }
   ],
   "source": [
    "data.columns[1:]"
   ]
  },
  {
   "cell_type": "code",
   "execution_count": 169,
   "metadata": {},
   "outputs": [
    {
     "data": {
      "text/plain": [
       "'ceb ~ age + educ + religion + idlnchld + knowmeth + usemeth + agefm + heduc + urban + electric + radio + tv + bicycle + nevermarr + idlnchld_noans + heduc_noans + usemeth_noans'"
      ]
     },
     "execution_count": 169,
     "metadata": {},
     "output_type": "execute_result"
    }
   ],
   "source": [
    "formula = 'ceb ~ ' + ' + '.join(data.columns[1:])\n",
    "formula"
   ]
  },
  {
   "cell_type": "code",
   "execution_count": 174,
   "metadata": {},
   "outputs": [],
   "source": [
    "m1 = smf.ols(formula, data=data)"
   ]
  },
  {
   "cell_type": "code",
   "execution_count": 177,
   "metadata": {},
   "outputs": [
    {
     "name": "stdout",
     "output_type": "stream",
     "text": [
      "                            OLS Regression Results                            \n",
      "==============================================================================\n",
      "Dep. Variable:                    ceb   R-squared:                       0.644\n",
      "Model:                            OLS   Adj. R-squared:                  0.643\n",
      "Method:                 Least Squares   F-statistic:                     412.5\n",
      "Date:                Sun, 02 Jun 2019   Prob (F-statistic):               0.00\n",
      "Time:                        23:32:05   Log-Likelihood:                -7732.1\n",
      "No. Observations:                4348   AIC:                         1.550e+04\n",
      "Df Residuals:                    4328   BIC:                         1.563e+04\n",
      "Df Model:                          19                                         \n",
      "Covariance Type:            nonrobust                                         \n",
      "==========================================================================================\n",
      "                             coef    std err          t      P>|t|      [0.025      0.975]\n",
      "------------------------------------------------------------------------------------------\n",
      "Intercept                 -1.0263      0.212     -4.835      0.000      -1.443      -0.610\n",
      "religion[T.other]         -0.0830      0.083     -1.001      0.317      -0.245       0.080\n",
      "religion[T.protestant]    -0.0149      0.082     -0.181      0.857      -0.176       0.146\n",
      "religion[T.spirit]        -0.0191      0.077     -0.248      0.804      -0.171       0.132\n",
      "age                        0.1703      0.003     51.891      0.000       0.164       0.177\n",
      "educ                      -0.0724      0.007     -9.843      0.000      -0.087      -0.058\n",
      "idlnchld                   0.0760      0.011      6.923      0.000       0.054       0.098\n",
      "knowmeth                   0.5564      0.121      4.580      0.000       0.318       0.795\n",
      "usemeth                    0.6473      0.048     13.424      0.000       0.553       0.742\n",
      "agefm                     -0.0604      0.007     -9.213      0.000      -0.073      -0.048\n",
      "heduc                     -0.0551      0.008     -6.838      0.000      -0.071      -0.039\n",
      "urban                     -0.2137      0.047     -4.527      0.000      -0.306      -0.121\n",
      "electric                  -0.2685      0.077     -3.479      0.001      -0.420      -0.117\n",
      "radio                     -0.0235      0.051     -0.461      0.645      -0.123       0.076\n",
      "tv                        -0.1451      0.093     -1.566      0.118      -0.327       0.037\n",
      "bicycle                    0.2139      0.050      4.260      0.000       0.115       0.312\n",
      "nevermarr                 -2.2393      0.148    -15.143      0.000      -2.529      -1.949\n",
      "idlnchld_noans             0.7299      0.158      4.624      0.000       0.420       1.039\n",
      "heduc_noans               -0.9276      0.148     -6.270      0.000      -1.218      -0.638\n",
      "usemeth_noans              2.7072      0.286      9.461      0.000       2.146       3.268\n",
      "==============================================================================\n",
      "Omnibus:                      224.411   Durbin-Watson:                   1.887\n",
      "Prob(Omnibus):                  0.000   Jarque-Bera (JB):              859.014\n",
      "Skew:                           0.003   Prob(JB):                    2.93e-187\n",
      "Kurtosis:                       5.178   Cond. No.                         425.\n",
      "==============================================================================\n",
      "\n",
      "Warnings:\n",
      "[1] Standard Errors assume that the covariance matrix of the errors is correctly specified.\n"
     ]
    }
   ],
   "source": [
    "fitted = m1.fit()\n",
    "print(fitted.summary())"
   ]
  },
  {
   "cell_type": "code",
   "execution_count": 179,
   "metadata": {
    "scrolled": false
   },
   "outputs": [
    {
     "name": "stdout",
     "output_type": "stream",
     "text": [
      "Breusch-Pagan test: p=0.000000\n"
     ]
    },
    {
     "name": "stderr",
     "output_type": "stream",
     "text": [
      "C:\\Users\\dvmos\\Anaconda3\\lib\\site-packages\\ipykernel_launcher.py:1: DeprecationWarning: `het_breushpagan` is deprecated, use `het_breuschpagan` instead!\n",
      "Use het_breuschpagan, het_breushpagan will be removed in 0.9 \n",
      "(Note: misspelling missing 'c')\n",
      "  \"\"\"Entry point for launching an IPython kernel.\n"
     ]
    }
   ],
   "source": [
    "print('Breusch-Pagan test: p=%f' % sms.het_breushpagan(fitted.resid, fitted.model.exog)[1])"
   ]
  },
  {
   "cell_type": "code",
   "execution_count": 190,
   "metadata": {},
   "outputs": [
    {
     "name": "stdout",
     "output_type": "stream",
     "text": [
      "                            OLS Regression Results                            \n",
      "==============================================================================\n",
      "Dep. Variable:                    ceb   R-squared:                       0.644\n",
      "Model:                            OLS   Adj. R-squared:                  0.643\n",
      "Method:                 Least Squares   F-statistic:                     345.0\n",
      "Date:                Sun, 02 Jun 2019   Prob (F-statistic):               0.00\n",
      "Time:                        23:40:21   Log-Likelihood:                -7732.1\n",
      "No. Observations:                4348   AIC:                         1.550e+04\n",
      "Df Residuals:                    4328   BIC:                         1.563e+04\n",
      "Df Model:                          19                                         \n",
      "Covariance Type:                  HC1                                         \n",
      "==========================================================================================\n",
      "                             coef    std err          z      P>|z|      [0.025      0.975]\n",
      "------------------------------------------------------------------------------------------\n",
      "Intercept                 -1.0263      0.266     -3.863      0.000      -1.547      -0.506\n",
      "religion[T.other]         -0.0830      0.078     -1.067      0.286      -0.235       0.069\n",
      "religion[T.protestant]    -0.0149      0.078     -0.192      0.848      -0.167       0.137\n",
      "religion[T.spirit]        -0.0191      0.071     -0.268      0.789      -0.159       0.121\n",
      "age                        0.1703      0.004     38.627      0.000       0.162       0.179\n",
      "educ                      -0.0724      0.007     -9.924      0.000      -0.087      -0.058\n",
      "idlnchld                   0.0760      0.015      5.236      0.000       0.048       0.104\n",
      "knowmeth                   0.5564      0.174      3.190      0.001       0.215       0.898\n",
      "usemeth                    0.6473      0.052     12.478      0.000       0.546       0.749\n",
      "agefm                     -0.0604      0.010     -6.174      0.000      -0.080      -0.041\n",
      "heduc                     -0.0551      0.009     -6.126      0.000      -0.073      -0.037\n",
      "urban                     -0.2137      0.046     -4.667      0.000      -0.303      -0.124\n",
      "electric                  -0.2685      0.072     -3.732      0.000      -0.410      -0.128\n",
      "radio                     -0.0235      0.053     -0.446      0.656      -0.127       0.080\n",
      "tv                        -0.1451      0.082     -1.766      0.077      -0.306       0.016\n",
      "bicycle                    0.2139      0.048      4.412      0.000       0.119       0.309\n",
      "nevermarr                 -2.2393      0.202    -11.082      0.000      -2.635      -1.843\n",
      "idlnchld_noans             0.7299      0.222      3.292      0.001       0.295       1.165\n",
      "heduc_noans               -0.9276      0.195     -4.754      0.000      -1.310      -0.545\n",
      "usemeth_noans              2.7072      0.317      8.550      0.000       2.087       3.328\n",
      "==============================================================================\n",
      "Omnibus:                      224.411   Durbin-Watson:                   1.887\n",
      "Prob(Omnibus):                  0.000   Jarque-Bera (JB):              859.014\n",
      "Skew:                           0.003   Prob(JB):                    2.93e-187\n",
      "Kurtosis:                       5.178   Cond. No.                         425.\n",
      "==============================================================================\n",
      "\n",
      "Warnings:\n",
      "[1] Standard Errors are heteroscedasticity robust (HC1)\n"
     ]
    }
   ],
   "source": [
    "m2 = smf.ols(formula, data=data)\n",
    "fitted = m2.fit(cov_type='HC1')\n",
    "print(fitted.summary())"
   ]
  },
  {
   "cell_type": "code",
   "execution_count": 192,
   "metadata": {},
   "outputs": [
    {
     "data": {
      "text/plain": [
       "'ceb ~ age + educ + idlnchld + knowmeth + usemeth + agefm + heduc + urban + electric + bicycle + nevermarr + idlnchld_noans + heduc_noans + usemeth_noans'"
      ]
     },
     "execution_count": 192,
     "metadata": {},
     "output_type": "execute_result"
    }
   ],
   "source": [
    "formula2 = 'ceb ~ age + educ + idlnchld + knowmeth + usemeth + agefm + heduc + urban + electric + bicycle \\\n",
    "+ nevermarr + idlnchld_noans + heduc_noans + usemeth_noans'\n",
    "formula2"
   ]
  },
  {
   "cell_type": "code",
   "execution_count": 194,
   "metadata": {
    "scrolled": true
   },
   "outputs": [
    {
     "name": "stdout",
     "output_type": "stream",
     "text": [
      "                            OLS Regression Results                            \n",
      "==============================================================================\n",
      "Dep. Variable:                    ceb   R-squared:                       0.644\n",
      "Model:                            OLS   Adj. R-squared:                  0.643\n",
      "Method:                 Least Squares   F-statistic:                     559.5\n",
      "Date:                Sun, 02 Jun 2019   Prob (F-statistic):               0.00\n",
      "Time:                        23:44:02   Log-Likelihood:                -7734.5\n",
      "No. Observations:                4348   AIC:                         1.550e+04\n",
      "Df Residuals:                    4333   BIC:                         1.559e+04\n",
      "Df Model:                          14                                         \n",
      "Covariance Type:            nonrobust                                         \n",
      "==================================================================================\n",
      "                     coef    std err          t      P>|t|      [0.025      0.975]\n",
      "----------------------------------------------------------------------------------\n",
      "Intercept         -1.0698      0.198     -5.393      0.000      -1.459      -0.681\n",
      "age                0.1702      0.003     52.271      0.000       0.164       0.177\n",
      "educ              -0.0729      0.007    -10.285      0.000      -0.087      -0.059\n",
      "idlnchld           0.0770      0.011      7.042      0.000       0.056       0.098\n",
      "knowmeth           0.5610      0.121      4.628      0.000       0.323       0.799\n",
      "usemeth            0.6516      0.048     13.537      0.000       0.557       0.746\n",
      "agefm             -0.0606      0.007     -9.240      0.000      -0.073      -0.048\n",
      "heduc             -0.0573      0.008     -7.186      0.000      -0.073      -0.042\n",
      "urban             -0.2190      0.047     -4.682      0.000      -0.311      -0.127\n",
      "electric          -0.3207      0.070     -4.584      0.000      -0.458      -0.184\n",
      "bicycle            0.2046      0.049      4.154      0.000       0.108       0.301\n",
      "nevermarr         -2.2501      0.148    -15.231      0.000      -2.540      -1.961\n",
      "idlnchld_noans     0.7335      0.158      4.655      0.000       0.425       1.042\n",
      "heduc_noans       -0.9426      0.148     -6.381      0.000      -1.232      -0.653\n",
      "usemeth_noans      2.7280      0.286      9.547      0.000       2.168       3.288\n",
      "==============================================================================\n",
      "Omnibus:                      224.096   Durbin-Watson:                   1.886\n",
      "Prob(Omnibus):                  0.000   Jarque-Bera (JB):              856.760\n",
      "Skew:                           0.004   Prob(JB):                    9.06e-187\n",
      "Kurtosis:                       5.175   Cond. No.                         424.\n",
      "==============================================================================\n",
      "\n",
      "Warnings:\n",
      "[1] Standard Errors assume that the covariance matrix of the errors is correctly specified.\n"
     ]
    }
   ],
   "source": [
    "m3 = smf.ols(formula2, data=data)\n",
    "fitted = m3.fit()\n",
    "print(fitted.summary())"
   ]
  },
  {
   "cell_type": "code",
   "execution_count": 196,
   "metadata": {},
   "outputs": [
    {
     "name": "stdout",
     "output_type": "stream",
     "text": [
      "Breusch-Pagan test: p=0.000000\n"
     ]
    },
    {
     "name": "stderr",
     "output_type": "stream",
     "text": [
      "C:\\Users\\dvmos\\Anaconda3\\lib\\site-packages\\ipykernel_launcher.py:1: DeprecationWarning: `het_breushpagan` is deprecated, use `het_breuschpagan` instead!\n",
      "Use het_breuschpagan, het_breushpagan will be removed in 0.9 \n",
      "(Note: misspelling missing 'c')\n",
      "  \"\"\"Entry point for launching an IPython kernel.\n"
     ]
    }
   ],
   "source": [
    "print('Breusch-Pagan test: p=%f' % sms.het_breushpagan(fitted.resid, fitted.model.exog)[1])"
   ]
  },
  {
   "cell_type": "code",
   "execution_count": 197,
   "metadata": {},
   "outputs": [
    {
     "name": "stdout",
     "output_type": "stream",
     "text": [
      "                            OLS Regression Results                            \n",
      "==============================================================================\n",
      "Dep. Variable:                    ceb   R-squared:                       0.644\n",
      "Model:                            OLS   Adj. R-squared:                  0.643\n",
      "Method:                 Least Squares   F-statistic:                     463.4\n",
      "Date:                Sun, 02 Jun 2019   Prob (F-statistic):               0.00\n",
      "Time:                        23:50:01   Log-Likelihood:                -7734.5\n",
      "No. Observations:                4348   AIC:                         1.550e+04\n",
      "Df Residuals:                    4333   BIC:                         1.559e+04\n",
      "Df Model:                          14                                         \n",
      "Covariance Type:                  HC1                                         \n",
      "==================================================================================\n",
      "                     coef    std err          z      P>|z|      [0.025      0.975]\n",
      "----------------------------------------------------------------------------------\n",
      "Intercept         -1.0698      0.258     -4.152      0.000      -1.575      -0.565\n",
      "age                0.1702      0.004     38.746      0.000       0.162       0.179\n",
      "educ              -0.0729      0.007    -10.311      0.000      -0.087      -0.059\n",
      "idlnchld           0.0770      0.014      5.323      0.000       0.049       0.105\n",
      "knowmeth           0.5610      0.174      3.224      0.001       0.220       0.902\n",
      "usemeth            0.6516      0.052     12.571      0.000       0.550       0.753\n",
      "agefm             -0.0606      0.010     -6.192      0.000      -0.080      -0.041\n",
      "heduc             -0.0573      0.009     -6.440      0.000      -0.075      -0.040\n",
      "urban             -0.2190      0.045     -4.814      0.000      -0.308      -0.130\n",
      "electric          -0.3207      0.063     -5.076      0.000      -0.445      -0.197\n",
      "bicycle            0.2046      0.048      4.279      0.000       0.111       0.298\n",
      "nevermarr         -2.2501      0.202    -11.158      0.000      -2.645      -1.855\n",
      "idlnchld_noans     0.7335      0.222      3.311      0.001       0.299       1.168\n",
      "heduc_noans       -0.9426      0.194     -4.847      0.000      -1.324      -0.561\n",
      "usemeth_noans      2.7280      0.316      8.627      0.000       2.108       3.348\n",
      "==============================================================================\n",
      "Omnibus:                      224.096   Durbin-Watson:                   1.886\n",
      "Prob(Omnibus):                  0.000   Jarque-Bera (JB):              856.760\n",
      "Skew:                           0.004   Prob(JB):                    9.06e-187\n",
      "Kurtosis:                       5.175   Cond. No.                         424.\n",
      "==============================================================================\n",
      "\n",
      "Warnings:\n",
      "[1] Standard Errors are heteroscedasticity robust (HC1)\n"
     ]
    }
   ],
   "source": [
    "m4 = smf.ols(formula2, data=data)\n",
    "fitted = m4.fit(cov_type='HC1')\n",
    "print(fitted.summary())"
   ]
  },
  {
   "cell_type": "code",
   "execution_count": 219,
   "metadata": {
    "scrolled": true
   },
   "outputs": [
    {
     "data": {
      "text/plain": [
       "0       4.0\n",
       "1       2.0\n",
       "2       4.0\n",
       "3       2.0\n",
       "4       3.0\n",
       "5       5.0\n",
       "6       3.0\n",
       "7       4.0\n",
       "8       4.0\n",
       "9       4.0\n",
       "10      3.0\n",
       "11      6.0\n",
       "12      6.0\n",
       "13      4.0\n",
       "14      3.0\n",
       "15      4.0\n",
       "16      5.0\n",
       "17      1.0\n",
       "18      2.0\n",
       "19      3.0\n",
       "20      2.0\n",
       "21      4.0\n",
       "22      4.0\n",
       "23      4.0\n",
       "24      1.0\n",
       "25      4.0\n",
       "26      6.0\n",
       "27      4.0\n",
       "28     -2.0\n",
       "29      4.0\n",
       "       ... \n",
       "4331    2.0\n",
       "4332    2.0\n",
       "4333    3.0\n",
       "4334    2.0\n",
       "4335    4.0\n",
       "4336    5.0\n",
       "4337    5.0\n",
       "4338    3.0\n",
       "4339    1.0\n",
       "4340    7.0\n",
       "4341    8.0\n",
       "4342    4.0\n",
       "4343    4.0\n",
       "4344    6.0\n",
       "4345    3.0\n",
       "4346    3.0\n",
       "4347    8.0\n",
       "4348    5.0\n",
       "4349    5.0\n",
       "4350    4.0\n",
       "4351    6.0\n",
       "4352    6.0\n",
       "4353    5.0\n",
       "4354    4.0\n",
       "4355    4.0\n",
       "4356    2.0\n",
       "4357    4.0\n",
       "4358    4.0\n",
       "4359    5.0\n",
       "4360    8.0\n",
       "Name: idlnchld, Length: 4348, dtype: float64"
      ]
     },
     "execution_count": 219,
     "metadata": {},
     "output_type": "execute_result"
    }
   ],
   "source": [
    "data.idlnchld"
   ]
  },
  {
   "cell_type": "code",
   "execution_count": 198,
   "metadata": {},
   "outputs": [
    {
     "name": "stdout",
     "output_type": "stream",
     "text": [
      "F=0.919236, p=0.467231, k1=5.000000\n"
     ]
    }
   ],
   "source": [
    "print(\"F=%f, p=%f, k1=%f\" % m2.fit().compare_f_test(m4.fit()))"
   ]
  },
  {
   "cell_type": "code",
   "execution_count": 199,
   "metadata": {
    "scrolled": true
   },
   "outputs": [
    {
     "data": {
      "text/plain": [
       "0.4672"
      ]
     },
     "execution_count": 199,
     "metadata": {},
     "output_type": "execute_result"
    }
   ],
   "source": [
    "round(0.467231, 4)"
   ]
  },
  {
   "cell_type": "code",
   "execution_count": 200,
   "metadata": {},
   "outputs": [],
   "source": [
    "formula3 = 'ceb ~ age + educ + idlnchld + knowmeth + agefm + heduc + urban + electric + bicycle \\\n",
    "+ nevermarr + idlnchld_noans + heduc_noans'"
   ]
  },
  {
   "cell_type": "code",
   "execution_count": 201,
   "metadata": {},
   "outputs": [
    {
     "name": "stdout",
     "output_type": "stream",
     "text": [
      "                            OLS Regression Results                            \n",
      "==============================================================================\n",
      "Dep. Variable:                    ceb   R-squared:                       0.629\n",
      "Model:                            OLS   Adj. R-squared:                  0.628\n",
      "Method:                 Least Squares   F-statistic:                     396.4\n",
      "Date:                Mon, 03 Jun 2019   Prob (F-statistic):               0.00\n",
      "Time:                        19:55:04   Log-Likelihood:                -7825.7\n",
      "No. Observations:                4348   AIC:                         1.568e+04\n",
      "Df Residuals:                    4335   BIC:                         1.576e+04\n",
      "Df Model:                          12                                         \n",
      "Covariance Type:                  HC1                                         \n",
      "==================================================================================\n",
      "                     coef    std err          z      P>|z|      [0.025      0.975]\n",
      "----------------------------------------------------------------------------------\n",
      "Intercept         -1.1931      0.262     -4.562      0.000      -1.706      -0.681\n",
      "age                0.1776      0.004     41.592      0.000       0.169       0.186\n",
      "educ              -0.0560      0.007     -7.788      0.000      -0.070      -0.042\n",
      "idlnchld           0.0705      0.015      4.748      0.000       0.041       0.100\n",
      "knowmeth           0.8739      0.174      5.029      0.000       0.533       1.214\n",
      "agefm             -0.0649      0.010     -6.489      0.000      -0.085      -0.045\n",
      "heduc             -0.0521      0.009     -5.658      0.000      -0.070      -0.034\n",
      "urban             -0.1866      0.046     -4.019      0.000      -0.278      -0.096\n",
      "electric          -0.3218      0.065     -4.953      0.000      -0.449      -0.194\n",
      "bicycle            0.1979      0.048      4.083      0.000       0.103       0.293\n",
      "nevermarr         -2.3625      0.205    -11.498      0.000      -2.765      -1.960\n",
      "idlnchld_noans     0.5971      0.231      2.589      0.010       0.145       1.049\n",
      "heduc_noans       -0.8468      0.199     -4.256      0.000      -1.237      -0.457\n",
      "==============================================================================\n",
      "Omnibus:                      250.641   Durbin-Watson:                   1.910\n",
      "Prob(Omnibus):                  0.000   Jarque-Bera (JB):              936.515\n",
      "Skew:                          -0.158   Prob(JB):                    4.35e-204\n",
      "Kurtosis:                       5.251   Cond. No.                         346.\n",
      "==============================================================================\n",
      "\n",
      "Warnings:\n",
      "[1] Standard Errors are heteroscedasticity robust (HC1)\n"
     ]
    }
   ],
   "source": [
    "m5 = smf.ols(formula3, data=data)\n",
    "fitted = m5.fit(cov_type='HC1')\n",
    "print(fitted.summary())"
   ]
  },
  {
   "cell_type": "code",
   "execution_count": 204,
   "metadata": {
    "scrolled": true
   },
   "outputs": [
    {
     "data": {
      "text/plain": [
       "(92.89058230109758, 3.1552009480386492e-40, 2.0)"
      ]
     },
     "execution_count": 204,
     "metadata": {},
     "output_type": "execute_result"
    }
   ],
   "source": [
    "m4.fit().compare_f_test(m5.fit())"
   ]
  },
  {
   "cell_type": "code",
   "execution_count": 211,
   "metadata": {},
   "outputs": [],
   "source": [
    "import pylab as plt"
   ]
  },
  {
   "cell_type": "code",
   "execution_count": 212,
   "metadata": {},
   "outputs": [
    {
     "data": {
      "text/plain": [
       "<Figure size 432x288 with 0 Axes>"
      ]
     },
     "metadata": {},
     "output_type": "display_data"
    },
    {
     "data": {
      "image/png": "[encoded data removed]",
      "text/plain": [
       "<Figure size 432x288 with 1 Axes>"
      ]
     },
     "metadata": {
      "needs_background": "light"
     },
     "output_type": "display_data"
    }
   ],
   "source": [
    "plt.figure()\n",
    "plot_leverage_resid2(fitted)\n",
    "plt.show()"
   ]
  },
  {
   "cell_type": "code",
   "execution_count": 218,
   "metadata": {},
   "outputs": [
    {
     "data": {
      "text/plain": [
       "-0.1668130518533868"
      ]
     },
     "execution_count": 218,
     "metadata": {},
     "output_type": "execute_result"
    }
   ],
   "source": [
    "np.mean(data.ceb[(data['knowmeth']==0)].values) - np.mean(data.ceb[(data['knowmeth']==1)].values)"
   ]
  },
  {
   "cell_type": "code",
   "execution_count": null,
   "metadata": {},
   "outputs": [],
   "source": []
  }
 ],
 "metadata": {
  "kernelspec": {
   "display_name": "Python 3",
   "language": "python",
   "name": "python3"
  },
  "language_info": {
   "codemirror_mode": {
    "name": "ipython",
    "version": 3
   },
   "file_extension": ".py",
   "mimetype": "text/x-python",
   "name": "python",
   "nbconvert_exporter": "python",
   "pygments_lexer": "ipython3",
   "version": "3.7.1"
  }
 },
 "nbformat": 4,
 "nbformat_minor": 2
}
