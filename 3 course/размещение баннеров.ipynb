{
 "cells": [
  {
   "cell_type": "code",
   "execution_count": 3,
   "metadata": {},
   "outputs": [],
   "source": [
    "import pandas as pd\n",
    "import numpy as np\n",
    "from sklearn.cluster import MeanShift as ms\n",
    "from scipy.spatial import distance"
   ]
  },
  {
   "cell_type": "code",
   "execution_count": 4,
   "metadata": {},
   "outputs": [],
   "source": [
    "data = pd.read_table('checkins.dat', na_values=\"NaN\")"
   ]
  },
  {
   "cell_type": "code",
   "execution_count": 9,
   "metadata": {},
   "outputs": [
    {
     "data": {
      "text/plain": [
       "<bound method NDFrame.head of            id    | user_id | venue_id |     latitude      |     longitude     |     created_at      \n",
       "0        ---------+---------+----------+---------------...                                          \n",
       "1          984301 | 2041916 |     5222 |               ...                                          \n",
       "2          984222 |   15824 |     5222 |        38.8951...                                          \n",
       "3          984315 | 1764391 |     5222 |               ...                                          \n",
       "4          984234 |   44652 |     5222 |         33.800...                                          \n",
       "5          984249 | 2146840 |     5222 |               ...                                          \n",
       "6          984268 | 2146843 |     5222 |               ...                                          \n",
       "7          984281 | 2146846 |     5222 |               ...                                          \n",
       "8          984291 |  105054 |     5222 |        45.5234...                                          \n",
       "9            6651 | 1338710 |   219703 |               ...                                          \n",
       "10         984318 | 2146539 |     5222 |         40.764...                                          \n",
       "11         984232 |   93870 |   380645 |        33.4483...                                          \n",
       "12         984483 | 1030290 |   955969 |        32.2217...                                          \n",
       "13         984685 |  304253 |    23558 |             40...                                          \n",
       "14         984470 |  720850 |   749715 |        33.4483...                                          \n",
       "15         984500 |   54536 |    63452 |               ...                                          \n",
       "16         984610 | 1639666 |   442605 |         33.414...                                          \n",
       "17         984722 | 1566751 |    23558 |               ...                                          \n",
       "18          10222 | 1340753 |   331466 |               ...                                          \n",
       "19         984653 | 1647192 |    23558 |        42.3584...                                          \n",
       "20         984251 |  298547 |    77014 |        33.4483...                                          \n",
       "21         984528 | 2046311 |    15682 |         33.414...                                          \n",
       "22         984736 | 2146942 |    23558 |               ...                                          \n",
       "23         984545 | 2070173 |    15682 |               ...                                          \n",
       "24         984237 | 2146838 |    18553 |               ...                                          \n",
       "25         984257 |  423903 |    66777 |               ...                                          \n",
       "26         984438 | 2096701 |     4432 |        33.4483...                                          \n",
       "27         984277 | 1648816 |    18006 |        33.2486...                                          \n",
       "28         984320 |  349414 |      819 |        32.8406...                                          \n",
       "29         984343 | 2146861 |      819 |               ...                                          \n",
       "...                                                    ...                                          \n",
       "1021938    949643 | 1903801 |    16093 |               ...                                          \n",
       "1021939    949650 | 1794344 |    83070 |               ...                                          \n",
       "1021940    949841 |  281860 |     9822 |        28.5383...                                          \n",
       "1021941    951412 |  919527 |   112490 |        47.6062...                                          \n",
       "1021942    951656 | 1358854 |       60 |               ...                                          \n",
       "1021943    951707 | 2137641 |   112006 |               ...                                          \n",
       "1021944    952256 | 1028835 |     8595 |        42.1292...                                          \n",
       "1021945    952750 |  962762 |       60 |               ...                                          \n",
       "1021946    953075 | 1834102 |    46717 |               ...                                          \n",
       "1021947    953225 | 2137860 |   490458 |               ...                                          \n",
       "1021948    953584 |  174305 |   916378 |        28.3200...                                          \n",
       "1021949    953690 | 1367118 |     4202 |               ...                                          \n",
       "1021950    953695 |  146164 |     4202 |         30.267...                                          \n",
       "1021951    953907 | 1903379 |    61002 |               ...                                          \n",
       "1021952    953968 | 2137969 |   515136 |               ...                                          \n",
       "1021953    954162 |  285893 |    42311 |        33.4483...                                          \n",
       "1021954    954283 |  709109 |   684720 |        33.4483...                                          \n",
       "1021955    954361 |   81625 |     5222 |         37.629...                                          \n",
       "1021956    954428 |  626076 |   950644 |        40.8501...                                          \n",
       "1021957    954536 | 1903801 |       60 |               ...                                          \n",
       "1021958    954925 |  674797 |     7491 |        33.7489...                                          \n",
       "1021959    955280 | 1903801 |    44209 |               ...                                          \n",
       "1021960    955561 |  626076 |    20073 |        40.8501...                                          \n",
       "1021961    955892 |  674797 |     2297 |        33.7489...                                          \n",
       "1021962    956377 |  845102 |    11195 |        42.7653...                                          \n",
       "1021963    956119 | 1139114 |    29488 |         42.439...                                          \n",
       "1021964    956447 | 2088020 |     4432 |               ...                                          \n",
       "1021965    956733 |  960666 |       60 |         42.331...                                          \n",
       "1021966    957139 | 1771518 |    10935 |               ...                                          \n",
       "1021967                                     (1021966 rows)                                          \n",
       "\n",
       "[1021968 rows x 1 columns]>"
      ]
     },
     "execution_count": 9,
     "metadata": {},
     "output_type": "execute_result"
    }
   ],
   "source": [
    "data.head"
   ]
  },
  {
   "cell_type": "code",
   "execution_count": 169,
   "metadata": {},
   "outputs": [
    {
     "name": "stderr",
     "output_type": "stream",
     "text": [
      "C:\\Users\\dvmos\\Anaconda3\\lib\\site-packages\\IPython\\core\\interactiveshell.py:3020: DtypeWarning: Columns (0) have mixed types. Specify dtype option on import or set low_memory=False.\n",
      "  interactivity=interactivity, compiler=compiler, result=result)\n"
     ]
    }
   ],
   "source": [
    "data = pd.read_table('checkins.dat', sep='|', skipinitialspace = True, \n",
    "                     skiprows=[1], header=0, names=('id', 'user_id', 'venue_id', 'latitude', 'longitude', 'created_at'))\n",
    "data.dropna(axis='rows', inplace=True)"
   ]
  },
  {
   "cell_type": "code",
   "execution_count": 138,
   "metadata": {},
   "outputs": [],
   "source": [
    "meanshift = ms(bandwidth=0.1)"
   ]
  },
  {
   "cell_type": "code",
   "execution_count": 170,
   "metadata": {
    "scrolled": false
   },
   "outputs": [],
   "source": [
    "data = data[:100000]"
   ]
  },
  {
   "cell_type": "code",
   "execution_count": 191,
   "metadata": {
    "scrolled": false
   },
   "outputs": [
    {
     "name": "stdout",
     "output_type": "stream",
     "text": [
      "Wall time: 5min 26s\n"
     ]
    },
    {
     "data": {
      "text/plain": [
       "MeanShift(bandwidth=0.1, bin_seeding=False, cluster_all=True, min_bin_freq=1,\n",
       "     n_jobs=None, seeds=None)"
      ]
     },
     "execution_count": 191,
     "metadata": {},
     "output_type": "execute_result"
    }
   ],
   "source": [
    "%%time\n",
    "meanshift.fit(data[['latitude', 'longitude']])"
   ]
  },
  {
   "cell_type": "code",
   "execution_count": 192,
   "metadata": {},
   "outputs": [],
   "source": [
    "# Вытащим из обученного метода массивы с метками наших точек и координатами центров кластеров\n",
    "\n",
    "labels = meanshift.labels_\n",
    "cluster_centers = meanshift.cluster_centers_"
   ]
  },
  {
   "cell_type": "code",
   "execution_count": 213,
   "metadata": {
    "scrolled": true
   },
   "outputs": [
    {
     "data": {
      "image/png": "[encoded data removed]",
      "text/plain": [
       "<Figure size 432x288 with 1 Axes>"
      ]
     },
     "metadata": {
      "needs_background": "light"
     },
     "output_type": "display_data"
    }
   ],
   "source": [
    "# График кластеров\n",
    "\n",
    "import matplotlib.pyplot as plt\n",
    "from itertools import cycle\n",
    "X = np.array(data[['latitude', 'longitude']])\n",
    "plt.figure(1)\n",
    "plt.clf()\n",
    "\n",
    "colors = cycle('bgrcmykbgrcmykbgrcmykbgrcmyk')\n",
    "for k, col in zip(range(n_clusters_), colors):\n",
    "    my_members = labels == k\n",
    "    cluster_center = cluster_centers[k]\n",
    "    plt.plot(X[my_members, 0], X[my_members, 1], col + '.')\n",
    "    plt.plot(cluster_center[0], cluster_center[1], 'o', markerfacecolor=col,\n",
    "             markeredgecolor='k', markersize=14)\n",
    "plt.title('Estimated number of clusters: %d' % n_clusters_)\n",
    "plt.show()"
   ]
  },
  {
   "cell_type": "code",
   "execution_count": 242,
   "metadata": {},
   "outputs": [],
   "source": [
    "# Найдем уникальные метки и посчитаем для каждой их количество в списке, который содержит метки для каждой точки выборки\n",
    "# результатом будет кортеж, в котором нулевой массив это уникальные метки, а первый массив это счетчик объектов с соответсвующими метками\n",
    "\n",
    "labels_unique = np.unique(labels, return_counts=True)"
   ]
  },
  {
   "cell_type": "code",
   "execution_count": 251,
   "metadata": {},
   "outputs": [],
   "source": [
    "# Найдем индексы тех меток, количество объекто для которых больше 15\n",
    "\n",
    "y = np.where(labels_unique[1]>15)"
   ]
  },
  {
   "cell_type": "code",
   "execution_count": 261,
   "metadata": {},
   "outputs": [],
   "source": [
    "# Создадим список кластеров, с количеством объектов более 15\n",
    "\n",
    "realclusters = []\n",
    "for i in y[0]:\n",
    "    realclusters.append(cluster_centers[i])"
   ]
  },
  {
   "cell_type": "code",
   "execution_count": 264,
   "metadata": {
    "scrolled": true
   },
   "outputs": [
    {
     "data": {
      "text/plain": [
       "592"
      ]
     },
     "execution_count": 264,
     "metadata": {},
     "output_type": "execute_result"
    }
   ],
   "source": [
    "len(realclusters)"
   ]
  },
  {
   "cell_type": "code",
   "execution_count": 269,
   "metadata": {},
   "outputs": [],
   "source": [
    "# Получим координаты кластеров в формате, подходящем для чтения на сайте www.mapcustomizer.com\n",
    "\n",
    "with open('coordinates.txt', 'w') as file:\n",
    "    for i in realclusters:\n",
    "        for j in str(i).replace('[', '').replace(']', ''.replace(' ', '')).split():\n",
    "            file.write(str(i).replace('[', '').replace(']', ''.replace(' ', '')).split()[0])\n",
    "            file.write(',')\n",
    "            file.write(str(i).replace('[', '').replace(']', ''.replace(' ', '')).split()[1])\n",
    "            file.write('\\n')"
   ]
  },
  {
   "cell_type": "code",
   "execution_count": 271,
   "metadata": {
    "scrolled": false
   },
   "outputs": [
    {
     "data": {
      "image/png": "[encoded data removed]",
      "text/plain": [
       "<Figure size 432x288 with 1 Axes>"
      ]
     },
     "metadata": {
      "needs_background": "light"
     },
     "output_type": "display_data"
    }
   ],
   "source": [
    "# Кластеры после оптимизации\n",
    "\n",
    "import matplotlib.pyplot as plt\n",
    "from itertools import cycle\n",
    "\n",
    "plt.figure(1)\n",
    "plt.clf()\n",
    "\n",
    "colors = cycle('bgrcmykbgrcmykbgrcmykbgrcmyk')\n",
    "for k, col in zip(range(len(realclusters)), colors):\n",
    "    my_members = labels == k\n",
    "    cluster_center = realclusters[k]\n",
    "    plt.plot(X[my_members, 0], X[my_members, 1], col + '.')\n",
    "    plt.plot(realclusters[0], realclusters[1], 'o', markerfacecolor=col,\n",
    "             markeredgecolor='k', markersize=14)\n",
    "plt.title('Estimated number of clusters: %d' % len(realclusters))\n",
    "plt.show()"
   ]
  },
  {
   "cell_type": "code",
   "execution_count": 284,
   "metadata": {},
   "outputs": [],
   "source": [
    "#Создадим словарь с координатами офисов компании\n",
    "\n",
    "offices = {'LA': [33.751277, -118.188740], 'Miami': [25.867736, -80.324116], 'London':[51.503016, -0.075479], \n",
    "     'Amsterdam':[52.378894, 4.885084], 'Beijing':[39.366487, 117.036146], 'Sydney':[-33.868457, 151.205134]}"
   ]
  },
  {
   "cell_type": "code",
   "execution_count": null,
   "metadata": {},
   "outputs": [],
   "source": [
    "# Определим функцию для вычисления евклидовой метрики\n",
    "\n",
    "def dst(a, b):\n",
    "    return distance.euclidean(a, b)"
   ]
  },
  {
   "cell_type": "code",
   "execution_count": 391,
   "metadata": {
    "scrolled": true
   },
   "outputs": [
    {
     "data": {
      "text/plain": [
       "592"
      ]
     },
     "execution_count": 391,
     "metadata": {},
     "output_type": "execute_result"
    }
   ],
   "source": [
    "# для каждой точки сравним ее расстояние до каждого из офисов и выберем наименьшее\n",
    "\n",
    "s = []\n",
    "distances = []\n",
    "for j in realclusters:\n",
    "    s= []\n",
    "    for key, value in offices.items():\n",
    "        s.append(dst(value, j))\n",
    "    distances.append(min(s))"
   ]
  },
  {
   "cell_type": "code",
   "execution_count": 392,
   "metadata": {},
   "outputs": [],
   "source": [
    "# отсортируем расстояния и возьмем 20 наименьших\n",
    "minimalvalues = sorted(distances)[0:20]\n",
    "minimalvalues = np.array(minimalvalues)"
   ]
  },
  {
   "cell_type": "code",
   "execution_count": 383,
   "metadata": {
    "scrolled": true
   },
   "outputs": [],
   "source": [
    "# Получим массив с индексами координат точек, которые являются популярными и находятся ближе всего к офису компании\n",
    "\n",
    "ind = []\n",
    "for i in minimalvalues:\n",
    "    ind.append(np.where(distances == i)[0][0])"
   ]
  },
  {
   "cell_type": "code",
   "execution_count": 384,
   "metadata": {},
   "outputs": [],
   "source": [
    "# Получим искомые координаты\n",
    "\n",
    "targets = []\n",
    "for i in ind:\n",
    "    targets.append(realclusters[i])"
   ]
  },
  {
   "cell_type": "code",
   "execution_count": 401,
   "metadata": {
    "scrolled": true
   },
   "outputs": [
    {
     "data": {
      "text/plain": [
       "array([-33.86063043, 151.20477593])"
      ]
     },
     "execution_count": 401,
     "metadata": {},
     "output_type": "execute_result"
    }
   ],
   "source": [
    "# Найдем координаты  наименьшим расстоянием до ближайшего офиса и заодно выполним проверку\n",
    "\n",
    "distances = np.array(distances)\n",
    "realclusters[np.where(distances == min(distances))[0][0]]"
   ]
  },
  {
   "cell_type": "code",
   "execution_count": null,
   "metadata": {},
   "outputs": [],
   "source": [
    "# Как можно легко убедиться полученные координаты соответствуют нулевому значению в нашем списке targets, \n",
    "#который является отсортированным"
   ]
  }
 ],
 "metadata": {
  "kernelspec": {
   "display_name": "Python 3",
   "language": "python",
   "name": "python3"
  },
  "language_info": {
   "codemirror_mode": {
    "name": "ipython",
    "version": 3
   },
   "file_extension": ".py",
   "mimetype": "text/x-python",
   "name": "python",
   "nbconvert_exporter": "python",
   "pygments_lexer": "ipython3",
   "version": "3.7.1"
  }
 },
 "nbformat": 4,
 "nbformat_minor": 2
}
